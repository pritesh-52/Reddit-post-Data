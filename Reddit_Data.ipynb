{
 "cells": [
  {
   "cell_type": "code",
   "execution_count": 1,
   "id": "51facec0-a232-46e0-903f-a596b01447e7",
   "metadata": {},
   "outputs": [],
   "source": [
    "#Library Import"
   ]
  },
  {
   "cell_type": "code",
   "execution_count": 80,
   "id": "ed7dee8a-73a8-48b8-8fe7-79e1b8e2a7bd",
   "metadata": {},
   "outputs": [],
   "source": [
    "import numpy as np\n",
    "from matplotlib import pyplot as plt\n",
    "from sklearn.model_selection import train_test_split,KFold\n",
    "from sklearn.utils import resample\n",
    "from sklearn.metrics import classification_report, confusion_matrix, accuracy_score,cohen_kappa_score\n",
    "import pandas as pd"
   ]
  },
  {
   "cell_type": "code",
   "execution_count": null,
   "id": "21c91fc7-e266-4127-95c4-2944e5f89476",
   "metadata": {},
   "outputs": [],
   "source": [
    "#Data Load"
   ]
  },
  {
   "cell_type": "code",
   "execution_count": 81,
   "id": "629aedca-824f-46e6-81d8-30fae9f09a00",
   "metadata": {},
   "outputs": [
    {
     "name": "stderr",
     "output_type": "stream",
     "text": [
      "C:\\Users\\DELL\\AppData\\Local\\Temp\\ipykernel_6800\\2606219255.py:2: DtypeWarning: Columns (0,1,3,4,5,6,7,8,9,10,11,12,16,18,19,20,21,22,23,24,25,26,27,28,29,30,31,34,35,37,38,39,41,45,46,47,51,57,59,62,63,64,65,66,67,70,71,72,73,74,76,78,79,80,82,84,85,87,88,89,90,95,96,97,98,99,100,101,102,103,107,108) have mixed types. Specify dtype option on import or set low_memory=False.\n",
      "  data=pd.read_csv(url)\n"
     ]
    }
   ],
   "source": [
    "url='E:/MCA SEM -2/ML WITH PYTHON/Dataset/Reddit/reddit.csv'\n",
    "data=pd.read_csv(url)"
   ]
  },
  {
   "cell_type": "code",
   "execution_count": 82,
   "id": "88f4761f-466e-4286-a554-0bc92211f51b",
   "metadata": {},
   "outputs": [
    {
     "data": {
      "text/plain": [
       "(1048575, 109)"
      ]
     },
     "execution_count": 82,
     "metadata": {},
     "output_type": "execute_result"
    }
   ],
   "source": [
    "data.shape"
   ]
  },
  {
   "cell_type": "code",
   "execution_count": null,
   "id": "311ed416-3acc-4459-a8b8-f7e1b6a1db4c",
   "metadata": {},
   "outputs": [],
   "source": [
    "#Drop Colum"
   ]
  },
  {
   "cell_type": "code",
   "execution_count": 83,
   "id": "2d8fbc37-6d89-4135-b544-87f4914cb619",
   "metadata": {},
   "outputs": [],
   "source": [
    "data=data.drop([\"all_awardings\",\"author_flair_richtext\",\"author_flair_text\",\"author_fullname\",\"awarders\",\n",
    "                \"created_utc\",\"full_link\",\"gildings\",\"id\",\"link_flair_background_color\",\"link_flair_richtext\",\n",
    "               \"over_18\",\"parent_whitelist_status\",\"permalink\",\"preview\",\"retrieved_on\",\"selftext\",\"subreddit\",\n",
    "               \"subreddit_id\",\"thumbnail\",\"thumbnail_height\",\"thumbnail_width\",\"title\",\"total_awards_received\",\"treatment_tags\",\n",
    "               \"treatment_tags\",\"url\",\"whitelist_status\",\"created\",\"link_flair_template_id\",\"author_flair_template_id\",\n",
    "                \"author_flair_text_color\",\"author_flair_background_color\",\"media\",\"media_embed\",\"secure_media\",\n",
    "                \"secure_media_embed\",\"author_cakeday\",\"banned_by\",\"poll_data\",\"edited\",\"media_metadata\",\"gilded\",\"distinguished\",\n",
    "               \"suggested_sort\",\"discussion_type\",\"event_end\",\"event_is_live\",\"event_start\",\"steward_reports\",\"removed_by\",\n",
    "               \"updated_utc\",\"og_description\",\"og_title\",\"crosspost_parent\",\"crosspost_parent_list\",\"author_created_utc\",\n",
    "                \"category\",\"content_categories\",\"removal_reason\",\"archived\",\"can_gild\",\"hidden\",\"quarantine\",\"subreddit_name_prefixed\",\"rte_mode\",\n",
    "                \"author_id\",\"brand_safe\",\"previous_visits\",\"approved_at_utc\",\"banned_at_utc\",\"view_count\",\"mod_reports\",\"user_reports\"],axis=1)"
   ]
  },
  {
   "cell_type": "code",
   "execution_count": 84,
   "id": "4979e420-561a-4ff5-81f8-7dea94834e85",
   "metadata": {},
   "outputs": [
    {
     "data": {
      "text/plain": [
       "(1048575, 36)"
      ]
     },
     "execution_count": 84,
     "metadata": {},
     "output_type": "execute_result"
    }
   ],
   "source": [
    "data.shape"
   ]
  },
  {
   "cell_type": "code",
   "execution_count": 86,
   "id": "b2879c6b-d547-4cf3-b3d0-3d0d8213fdf4",
   "metadata": {},
   "outputs": [
    {
     "data": {
      "text/plain": [
       "allow_live_comments        905969\n",
       "author                        147\n",
       "author_flair_css_class     989097\n",
       "author_flair_type          631667\n",
       "author_patreon_flair       768600\n",
       "author_premium             977847\n",
       "can_mod_post               493921\n",
       "contest_mode               370253\n",
       "domain                        167\n",
       "is_crosspostable           533733\n",
       "is_meta                    724641\n",
       "is_original_content        669926\n",
       "is_reddit_media_domain     559853\n",
       "is_robot_indexable         759631\n",
       "is_self                       169\n",
       "is_video                   474222\n",
       "link_flair_text_color      624268\n",
       "link_flair_type            624268\n",
       "locked                     250952\n",
       "media_only                 694215\n",
       "no_follow                  649542\n",
       "num_comments                  169\n",
       "num_crossposts             533736\n",
       "pinned                     555607\n",
       "post_hint                  782363\n",
       "pwls                       682340\n",
       "removed_by_category       1026644\n",
       "score                         169\n",
       "send_replies               648935\n",
       "spoiler                    379839\n",
       "stickied                    26904\n",
       "subreddit_subscribers      658384\n",
       "subreddit_type             596740\n",
       "wls                        682797\n",
       "link_flair_css_class       388082\n",
       "link_flair_text            386892\n",
       "dtype: int64"
      ]
     },
     "execution_count": 86,
     "metadata": {},
     "output_type": "execute_result"
    }
   ],
   "source": [
    "data.isnull().sum()"
   ]
  },
  {
   "cell_type": "code",
   "execution_count": 87,
   "id": "493167b1-c92c-4b0b-9c57-5ee7437d32ca",
   "metadata": {},
   "outputs": [
    {
     "data": {
      "text/html": [
       "<div>\n",
       "<style scoped>\n",
       "    .dataframe tbody tr th:only-of-type {\n",
       "        vertical-align: middle;\n",
       "    }\n",
       "\n",
       "    .dataframe tbody tr th {\n",
       "        vertical-align: top;\n",
       "    }\n",
       "\n",
       "    .dataframe thead th {\n",
       "        text-align: right;\n",
       "    }\n",
       "</style>\n",
       "<table border=\"1\" class=\"dataframe\">\n",
       "  <thead>\n",
       "    <tr style=\"text-align: right;\">\n",
       "      <th></th>\n",
       "      <th>allow_live_comments</th>\n",
       "      <th>author</th>\n",
       "      <th>author_flair_css_class</th>\n",
       "      <th>author_flair_type</th>\n",
       "      <th>author_patreon_flair</th>\n",
       "      <th>author_premium</th>\n",
       "      <th>can_mod_post</th>\n",
       "      <th>contest_mode</th>\n",
       "      <th>domain</th>\n",
       "      <th>is_crosspostable</th>\n",
       "      <th>...</th>\n",
       "      <th>removed_by_category</th>\n",
       "      <th>score</th>\n",
       "      <th>send_replies</th>\n",
       "      <th>spoiler</th>\n",
       "      <th>stickied</th>\n",
       "      <th>subreddit_subscribers</th>\n",
       "      <th>subreddit_type</th>\n",
       "      <th>wls</th>\n",
       "      <th>link_flair_css_class</th>\n",
       "      <th>link_flair_text</th>\n",
       "    </tr>\n",
       "  </thead>\n",
       "  <tbody>\n",
       "    <tr>\n",
       "      <th>0</th>\n",
       "      <td>False</td>\n",
       "      <td>vicSaitamaPrime</td>\n",
       "      <td>NaN</td>\n",
       "      <td>text</td>\n",
       "      <td>False</td>\n",
       "      <td>False</td>\n",
       "      <td>False</td>\n",
       "      <td>False</td>\n",
       "      <td>i.redd.it</td>\n",
       "      <td>False</td>\n",
       "      <td>...</td>\n",
       "      <td>moderator</td>\n",
       "      <td>1.0</td>\n",
       "      <td>True</td>\n",
       "      <td>False</td>\n",
       "      <td>False</td>\n",
       "      <td>322320.0</td>\n",
       "      <td>public</td>\n",
       "      <td>6.0</td>\n",
       "      <td>NaN</td>\n",
       "      <td>NaN</td>\n",
       "    </tr>\n",
       "    <tr>\n",
       "      <th>1</th>\n",
       "      <td>False</td>\n",
       "      <td>pkmcreation</td>\n",
       "      <td>NaN</td>\n",
       "      <td>text</td>\n",
       "      <td>False</td>\n",
       "      <td>False</td>\n",
       "      <td>False</td>\n",
       "      <td>False</td>\n",
       "      <td>pkmcreation.com</td>\n",
       "      <td>False</td>\n",
       "      <td>...</td>\n",
       "      <td>reddit</td>\n",
       "      <td>1.0</td>\n",
       "      <td>True</td>\n",
       "      <td>False</td>\n",
       "      <td>False</td>\n",
       "      <td>322320.0</td>\n",
       "      <td>public</td>\n",
       "      <td>6.0</td>\n",
       "      <td>Non-Political</td>\n",
       "      <td>Non-Political</td>\n",
       "    </tr>\n",
       "    <tr>\n",
       "      <th>2</th>\n",
       "      <td>False</td>\n",
       "      <td>BigBulkemails</td>\n",
       "      <td>NaN</td>\n",
       "      <td>text</td>\n",
       "      <td>False</td>\n",
       "      <td>False</td>\n",
       "      <td>False</td>\n",
       "      <td>False</td>\n",
       "      <td>self.india</td>\n",
       "      <td>True</td>\n",
       "      <td>...</td>\n",
       "      <td>NaN</td>\n",
       "      <td>1.0</td>\n",
       "      <td>True</td>\n",
       "      <td>False</td>\n",
       "      <td>False</td>\n",
       "      <td>322320.0</td>\n",
       "      <td>public</td>\n",
       "      <td>6.0</td>\n",
       "      <td>Politics</td>\n",
       "      <td>Politics</td>\n",
       "    </tr>\n",
       "    <tr>\n",
       "      <th>3</th>\n",
       "      <td>False</td>\n",
       "      <td>Ib90</td>\n",
       "      <td>NaN</td>\n",
       "      <td>text</td>\n",
       "      <td>False</td>\n",
       "      <td>False</td>\n",
       "      <td>False</td>\n",
       "      <td>False</td>\n",
       "      <td>indiatoday.in</td>\n",
       "      <td>True</td>\n",
       "      <td>...</td>\n",
       "      <td>NaN</td>\n",
       "      <td>1.0</td>\n",
       "      <td>True</td>\n",
       "      <td>False</td>\n",
       "      <td>False</td>\n",
       "      <td>322319.0</td>\n",
       "      <td>public</td>\n",
       "      <td>6.0</td>\n",
       "      <td>Politics</td>\n",
       "      <td>Politics</td>\n",
       "    </tr>\n",
       "    <tr>\n",
       "      <th>4</th>\n",
       "      <td>False</td>\n",
       "      <td>sleepygamer92</td>\n",
       "      <td>universe</td>\n",
       "      <td>richtext</td>\n",
       "      <td>False</td>\n",
       "      <td>False</td>\n",
       "      <td>False</td>\n",
       "      <td>False</td>\n",
       "      <td>scroll.in</td>\n",
       "      <td>True</td>\n",
       "      <td>...</td>\n",
       "      <td>NaN</td>\n",
       "      <td>1.0</td>\n",
       "      <td>True</td>\n",
       "      <td>False</td>\n",
       "      <td>False</td>\n",
       "      <td>322319.0</td>\n",
       "      <td>public</td>\n",
       "      <td>6.0</td>\n",
       "      <td>Coronavirus</td>\n",
       "      <td>Coronavirus</td>\n",
       "    </tr>\n",
       "  </tbody>\n",
       "</table>\n",
       "<p>5 rows × 36 columns</p>\n",
       "</div>"
      ],
      "text/plain": [
       "  allow_live_comments           author author_flair_css_class  \\\n",
       "0               False  vicSaitamaPrime                    NaN   \n",
       "1               False      pkmcreation                    NaN   \n",
       "2               False    BigBulkemails                    NaN   \n",
       "3               False             Ib90                    NaN   \n",
       "4               False    sleepygamer92               universe   \n",
       "\n",
       "  author_flair_type author_patreon_flair author_premium can_mod_post  \\\n",
       "0              text                False          False        False   \n",
       "1              text                False          False        False   \n",
       "2              text                False          False        False   \n",
       "3              text                False          False        False   \n",
       "4          richtext                False          False        False   \n",
       "\n",
       "  contest_mode           domain is_crosspostable  ... removed_by_category  \\\n",
       "0        False        i.redd.it            False  ...           moderator   \n",
       "1        False  pkmcreation.com            False  ...              reddit   \n",
       "2        False       self.india             True  ...                 NaN   \n",
       "3        False    indiatoday.in             True  ...                 NaN   \n",
       "4        False        scroll.in             True  ...                 NaN   \n",
       "\n",
       "  score send_replies spoiler stickied subreddit_subscribers subreddit_type  \\\n",
       "0   1.0         True   False    False              322320.0         public   \n",
       "1   1.0         True   False    False              322320.0         public   \n",
       "2   1.0         True   False    False              322320.0         public   \n",
       "3   1.0         True   False    False              322319.0         public   \n",
       "4   1.0         True   False    False              322319.0         public   \n",
       "\n",
       "   wls link_flair_css_class link_flair_text  \n",
       "0  6.0                  NaN             NaN  \n",
       "1  6.0        Non-Political   Non-Political  \n",
       "2  6.0             Politics        Politics  \n",
       "3  6.0             Politics        Politics  \n",
       "4  6.0          Coronavirus     Coronavirus  \n",
       "\n",
       "[5 rows x 36 columns]"
      ]
     },
     "execution_count": 87,
     "metadata": {},
     "output_type": "execute_result"
    }
   ],
   "source": [
    "data['allow_live_comments'].describe()\n",
    "data.head(5)"
   ]
  },
  {
   "cell_type": "code",
   "execution_count": 88,
   "id": "dc8a5fad-6731-48c3-8729-af07f5605df3",
   "metadata": {},
   "outputs": [],
   "source": [
    "data['allow_live_comments'].fillna(value=\"TRUE\",inplace=True)"
   ]
  },
  {
   "cell_type": "code",
   "execution_count": 89,
   "id": "5c9d0a98-da9c-4679-bd31-7340fe634e45",
   "metadata": {},
   "outputs": [],
   "source": [
    "data['author_flair_css_class'].describe()\n",
    "data['author_flair_css_class'].fillna(value=\"Gujrat\",inplace=True)"
   ]
  },
  {
   "cell_type": "code",
   "execution_count": 90,
   "id": "0a90e7cd-a333-43fa-a707-7919f53c04fb",
   "metadata": {},
   "outputs": [],
   "source": [
    "data['author_flair_type'].describe()\n",
    "data['author_flair_type'].fillna(value=\"richtext\",inplace=True)"
   ]
  },
  {
   "cell_type": "code",
   "execution_count": 91,
   "id": "8e30cf7b-b7e0-4e71-88fa-0910fae7cdf6",
   "metadata": {},
   "outputs": [],
   "source": [
    "data['author_patreon_flair'].describe()\n",
    "data['author_patreon_flair'].fillna(value=\"TRUE\",inplace=True)"
   ]
  },
  {
   "cell_type": "code",
   "execution_count": 92,
   "id": "f83d0141-e3d8-42ed-a72c-308471bc7d03",
   "metadata": {},
   "outputs": [],
   "source": [
    "data['author_premium'].describe()\n",
    "data['author_premium'].fillna(value=\"TRUE\",inplace=True)"
   ]
  },
  {
   "cell_type": "code",
   "execution_count": 93,
   "id": "5345f462-ee71-4bef-932b-491c4f58736a",
   "metadata": {},
   "outputs": [],
   "source": [
    "data['can_mod_post'].describe()\n",
    "data['can_mod_post'].fillna(value=\"TRUE\",inplace=True)"
   ]
  },
  {
   "cell_type": "code",
   "execution_count": 94,
   "id": "644fa0db-c72a-4be8-82af-d19272c01e10",
   "metadata": {},
   "outputs": [],
   "source": [
    "data['contest_mode'].describe()\n",
    "data['contest_mode'].fillna(value=\"TRUE\",inplace=True)"
   ]
  },
  {
   "cell_type": "code",
   "execution_count": 95,
   "id": "82cc0805-7b36-4998-a2c9-671e623f432c",
   "metadata": {},
   "outputs": [],
   "source": [
    "data['is_crosspostable'].describe()\n",
    "data['is_crosspostable'].fillna(value=\"FALSE\",inplace=True)"
   ]
  },
  {
   "cell_type": "code",
   "execution_count": 96,
   "id": "f8cc2d38-7a90-421f-9be9-4d773afd7c4c",
   "metadata": {},
   "outputs": [],
   "source": [
    "data['is_meta'].describe()\n",
    "data['is_meta'].fillna(value=\"TRUE\",inplace=True)"
   ]
  },
  {
   "cell_type": "code",
   "execution_count": 97,
   "id": "03fbdb68-f274-4a59-bd00-5c6c39f1929b",
   "metadata": {},
   "outputs": [],
   "source": [
    "data['is_original_content'].describe()\n",
    "data['is_original_content'].fillna(value=\"FALSE\",inplace=True)"
   ]
  },
  {
   "cell_type": "code",
   "execution_count": 98,
   "id": "bf1b0e83-3cf4-4d3a-8e6b-5a8a2e8f75a0",
   "metadata": {},
   "outputs": [],
   "source": [
    "data['is_reddit_media_domain'].describe()\n",
    "data['is_reddit_media_domain'].fillna(value=\"No\",inplace=True)"
   ]
  },
  {
   "cell_type": "code",
   "execution_count": 99,
   "id": "19441f16-5f2c-449c-b9da-729a2c11a650",
   "metadata": {},
   "outputs": [],
   "source": [
    "data['is_robot_indexable'].describe()\n",
    "data['is_robot_indexable'].fillna(value=\"FALSE\",inplace=True)"
   ]
  },
  {
   "cell_type": "code",
   "execution_count": 100,
   "id": "8a7910be-bce9-404f-9159-1accca4bf86c",
   "metadata": {},
   "outputs": [],
   "source": [
    "data['is_video'].max()\n",
    "data['is_video'].fillna(value=\"FALSE\",inplace=True)"
   ]
  },
  {
   "cell_type": "code",
   "execution_count": 101,
   "id": "6fd682db-c837-47c0-bb97-c80191ed2e05",
   "metadata": {},
   "outputs": [],
   "source": [
    "data['link_flair_text_color'].describe()\n",
    "data['link_flair_text_color'].fillna(value=\"light\",inplace=True)"
   ]
  },
  {
   "cell_type": "code",
   "execution_count": 102,
   "id": "57bb44a9-1d7e-4ff5-a0e9-129771c26091",
   "metadata": {},
   "outputs": [],
   "source": [
    "data['link_flair_type'].describe()\n",
    "data['link_flair_type'].fillna(value=\"text\",inplace=True)"
   ]
  },
  {
   "cell_type": "code",
   "execution_count": 103,
   "id": "971a0b74-8f08-4211-976e-2d2c4a7d2584",
   "metadata": {},
   "outputs": [],
   "source": [
    "data['locked'].describe()\n",
    "maxiumrepeat=data['locked'].value_counts().idxmax()\n",
    "data['locked'].fillna(value=\"TRUE\",inplace=True)"
   ]
  },
  {
   "cell_type": "code",
   "execution_count": 104,
   "id": "a76c2d90-485c-42df-961c-0b815cf50cc2",
   "metadata": {},
   "outputs": [],
   "source": [
    "data['media_only'].describe()\n",
    "data['media_only'].fillna(value=\"TRUE\",inplace=True)"
   ]
  },
  {
   "cell_type": "code",
   "execution_count": 105,
   "id": "0704c481-9059-4f54-ad43-d4b4a871ecd5",
   "metadata": {},
   "outputs": [],
   "source": [
    "data['no_follow'].describe()\n",
    "maxiumrepeat=data['no_follow'].value_counts().idxmax()\n",
    "data['no_follow'].fillna(value=maxiumrepeat,inplace=True)"
   ]
  },
  {
   "cell_type": "code",
   "execution_count": 106,
   "id": "d95fd23b-7f1e-49ee-9ec6-2f7e17baeca5",
   "metadata": {},
   "outputs": [],
   "source": [
    "data['num_crossposts'].describe()\n",
    "maxiumrepeat=data['num_crossposts'].value_counts().idxmax()\n",
    "data['num_crossposts'].fillna(value=1,inplace=True)"
   ]
  },
  {
   "cell_type": "code",
   "execution_count": 107,
   "id": "a409ff7b-85f8-4756-b0e3-42d57843f9e7",
   "metadata": {},
   "outputs": [],
   "source": [
    "data['pinned'].describe()\n",
    "#maxiumrepeat=data['num_crossposts'].value_counts().idxmax()\n",
    "data['pinned'].fillna(value=\"TRUE\",inplace=True)"
   ]
  },
  {
   "cell_type": "code",
   "execution_count": 108,
   "id": "14baad24-4d7b-4f99-a91b-857d9e9b4ad1",
   "metadata": {},
   "outputs": [],
   "source": [
    "data['post_hint'].describe()\n",
    "maxiumrepeat=data['post_hint'].value_counts().idxmax()\n",
    "maxiumrepeat\n",
    "data['post_hint'].fillna(value=maxiumrepeat,inplace=True)"
   ]
  },
  {
   "cell_type": "code",
   "execution_count": 109,
   "id": "f902215a-d614-41fe-9dc4-0dad7dfc9d49",
   "metadata": {},
   "outputs": [],
   "source": [
    "data['pwls'].describe()\n",
    "maxiumrepeat=data['pwls'].value_counts().idxmax()\n",
    "maxiumrepeat\n",
    "data['pwls'].fillna(value=5,inplace=True)"
   ]
  },
  {
   "cell_type": "code",
   "execution_count": 110,
   "id": "c9baf663-0c9d-42e8-96b8-706459c63b2b",
   "metadata": {},
   "outputs": [],
   "source": [
    "data['removed_by_category'].describe()\n",
    "maxiumrepeat=data['removed_by_category'].value_counts().idxmax()\n",
    "maxiumrepeat\n",
    "data['removed_by_category'].fillna(value=maxiumrepeat,inplace=True)"
   ]
  },
  {
   "cell_type": "code",
   "execution_count": 111,
   "id": "32b59f6f-5b05-4f42-954e-7b2efb87e64a",
   "metadata": {},
   "outputs": [],
   "source": [
    "data['send_replies'].describe()\n",
    "#maxiumrepeat=data['removed_by_category'].value_counts().idxmax()\n",
    "#maxiumrepeat\n",
    "data['send_replies'].fillna(value=\"TRUE\",inplace=True)"
   ]
  },
  {
   "cell_type": "code",
   "execution_count": 112,
   "id": "82bc0e78-17a7-4416-b734-658c0c4c8216",
   "metadata": {},
   "outputs": [],
   "source": [
    "data['spoiler'].describe()\n",
    "#maxiumrepeat=data['removed_by_category'].value_counts().idxmax()\n",
    "#maxiumrepeat\n",
    "data['spoiler'].fillna(value=\"TRUE\",inplace=True)"
   ]
  },
  {
   "cell_type": "code",
   "execution_count": 113,
   "id": "97846671-5e8a-4aec-8239-7c18f9d06add",
   "metadata": {},
   "outputs": [],
   "source": [
    "data['stickied'].describe()\n",
    "#maxiumrepeat=data['removed_by_category'].value_counts().idxmax()\n",
    "#maxiumrepeat\n",
    "data['stickied'].fillna(value=\"TRUE\",inplace=True)"
   ]
  },
  {
   "cell_type": "code",
   "execution_count": 114,
   "id": "59a71d2a-da73-44d7-9fb8-e031f39c5395",
   "metadata": {},
   "outputs": [
    {
     "data": {
      "text/plain": [
       "203347"
      ]
     },
     "execution_count": 114,
     "metadata": {},
     "output_type": "execute_result"
    }
   ],
   "source": [
    "meanvalue=data['subreddit_subscribers'].mean().astype('int')\n",
    "meanvalue"
   ]
  },
  {
   "cell_type": "code",
   "execution_count": 115,
   "id": "796aa4f3-dd1d-4ec5-8af2-e3bee3cbfd91",
   "metadata": {},
   "outputs": [],
   "source": [
    "data['subreddit_subscribers'].describe()\n",
    "#meanvalue=data['subreddit_subscribers'].mean().astype('int')\n",
    "data['subreddit_subscribers'].fillna(value=meanvalue,inplace=True)"
   ]
  },
  {
   "cell_type": "code",
   "execution_count": 116,
   "id": "8b354d01-a060-4fe7-9c1e-1519e3c827f4",
   "metadata": {},
   "outputs": [
    {
     "data": {
      "text/plain": [
       "count    1.048575e+06\n",
       "mean     2.033473e+05\n",
       "std      3.602161e+04\n",
       "min      1.150310e+05\n",
       "25%      2.033470e+05\n",
       "50%      2.033470e+05\n",
       "75%      2.033470e+05\n",
       "max      3.223200e+05\n",
       "Name: subreddit_subscribers, dtype: float64"
      ]
     },
     "execution_count": 116,
     "metadata": {},
     "output_type": "execute_result"
    }
   ],
   "source": [
    "data['subreddit_subscribers'].describe()"
   ]
  },
  {
   "cell_type": "code",
   "execution_count": 117,
   "id": "9ea487f6-2a5e-46a5-aa85-32bd8a6058c0",
   "metadata": {},
   "outputs": [],
   "source": [
    "data['subreddit_type'].describe()\n",
    "#maxiumrepeat=data['removed_by_category'].value_counts().idxmax()\n",
    "#maxiumrepeat\n",
    "data['subreddit_type'].fillna(value=\"private\",inplace=True)"
   ]
  },
  {
   "cell_type": "code",
   "execution_count": 118,
   "id": "cfe9f6fc-a0b5-4123-bb10-c5c9c32c26d4",
   "metadata": {},
   "outputs": [],
   "source": [
    "data['wls'].describe()\n",
    "maxiumrepeat=data['wls'].value_counts().idxmax()\n",
    "maxiumrepeat\n",
    "data['wls'].fillna(value=5,inplace=True)"
   ]
  },
  {
   "cell_type": "code",
   "execution_count": 119,
   "id": "9399cb0d-609b-43ad-bf0b-7b9892aa5114",
   "metadata": {},
   "outputs": [],
   "source": [
    "data['link_flair_css_class'].describe()\n",
    "maxiumrepeat=data['link_flair_css_class'].value_counts().idxmax()\n",
    "maxiumrepeat\n",
    "data['link_flair_css_class'].fillna(value=maxiumrepeat,inplace=True)"
   ]
  },
  {
   "cell_type": "code",
   "execution_count": 120,
   "id": "935fa9e3-b8ab-4a85-a9fa-ba440f84256d",
   "metadata": {},
   "outputs": [],
   "source": [
    "data['link_flair_text'].describe()\n",
    "maxiumrepeat=data['link_flair_text'].value_counts().idxmax()\n",
    "maxiumrepeat\n",
    "data['link_flair_text'].fillna(value=maxiumrepeat,inplace=True)"
   ]
  },
  {
   "cell_type": "code",
   "execution_count": 121,
   "id": "4dbc9a56-1cd4-44dd-8afe-9425b367d8eb",
   "metadata": {},
   "outputs": [],
   "source": [
    "data['score'].describe()\n",
    "maxiumrepeat=data['score'].value_counts().idxmax()\n",
    "maxiumrepeat\n",
    "data['score'].fillna(value=0,inplace=True)"
   ]
  },
  {
   "cell_type": "code",
   "execution_count": 122,
   "id": "bce1a0a2-2d41-4461-a455-9b361ecbdab2",
   "metadata": {},
   "outputs": [],
   "source": [
    "data['num_comments'].describe()\n",
    "maxiumrepeat=data['num_comments'].value_counts().idxmax()\n",
    "maxiumrepeat\n",
    "data['num_comments'].fillna(value=1,inplace=True)"
   ]
  },
  {
   "cell_type": "code",
   "execution_count": 123,
   "id": "d047ea5b-c066-4ba9-bb43-5f21cfc9798c",
   "metadata": {},
   "outputs": [
    {
     "data": {
      "text/plain": [
       "allow_live_comments         0\n",
       "author                    147\n",
       "author_flair_css_class      0\n",
       "author_flair_type           0\n",
       "author_patreon_flair        0\n",
       "author_premium              0\n",
       "can_mod_post                0\n",
       "contest_mode                0\n",
       "domain                    167\n",
       "is_crosspostable            0\n",
       "is_meta                     0\n",
       "is_original_content         0\n",
       "is_reddit_media_domain      0\n",
       "is_robot_indexable          0\n",
       "is_self                   169\n",
       "is_video                    0\n",
       "link_flair_text_color       0\n",
       "link_flair_type             0\n",
       "locked                      0\n",
       "media_only                  0\n",
       "no_follow                   0\n",
       "num_comments                0\n",
       "num_crossposts              0\n",
       "pinned                      0\n",
       "post_hint                   0\n",
       "pwls                        0\n",
       "removed_by_category         0\n",
       "score                       0\n",
       "send_replies                0\n",
       "spoiler                     0\n",
       "stickied                    0\n",
       "subreddit_subscribers       0\n",
       "subreddit_type              0\n",
       "wls                         0\n",
       "link_flair_css_class        0\n",
       "link_flair_text             0\n",
       "dtype: int64"
      ]
     },
     "execution_count": 123,
     "metadata": {},
     "output_type": "execute_result"
    }
   ],
   "source": [
    "data.isnull().sum()"
   ]
  },
  {
   "cell_type": "code",
   "execution_count": 124,
   "id": "deed8c23-4861-4917-9497-210750d455d6",
   "metadata": {},
   "outputs": [],
   "source": [
    "data=data.drop([\"author\",\"domain\",\"is_self\",\"media_only\"],axis=1)"
   ]
  },
  {
   "cell_type": "code",
   "execution_count": 125,
   "id": "37d5587b-6c4e-4155-92f7-51c4adcd862c",
   "metadata": {},
   "outputs": [
    {
     "data": {
      "text/plain": [
       "allow_live_comments       0\n",
       "author_flair_css_class    0\n",
       "author_flair_type         0\n",
       "author_patreon_flair      0\n",
       "author_premium            0\n",
       "can_mod_post              0\n",
       "contest_mode              0\n",
       "is_crosspostable          0\n",
       "is_meta                   0\n",
       "is_original_content       0\n",
       "is_reddit_media_domain    0\n",
       "is_robot_indexable        0\n",
       "is_video                  0\n",
       "link_flair_text_color     0\n",
       "link_flair_type           0\n",
       "locked                    0\n",
       "no_follow                 0\n",
       "num_comments              0\n",
       "num_crossposts            0\n",
       "pinned                    0\n",
       "post_hint                 0\n",
       "pwls                      0\n",
       "removed_by_category       0\n",
       "score                     0\n",
       "send_replies              0\n",
       "spoiler                   0\n",
       "stickied                  0\n",
       "subreddit_subscribers     0\n",
       "subreddit_type            0\n",
       "wls                       0\n",
       "link_flair_css_class      0\n",
       "link_flair_text           0\n",
       "dtype: int64"
      ]
     },
     "execution_count": 125,
     "metadata": {},
     "output_type": "execute_result"
    }
   ],
   "source": [
    "data.isnull().sum()"
   ]
  },
  {
   "cell_type": "code",
   "execution_count": 126,
   "id": "5cc6d38e-b955-4432-be92-0fac9fae0506",
   "metadata": {},
   "outputs": [
    {
     "data": {
      "text/plain": [
       "0    0\n",
       "1    1\n",
       "2    1\n",
       "3    1\n",
       "4    1\n",
       "Name: is_reddit_media_domain, dtype: object"
      ]
     },
     "execution_count": 126,
     "metadata": {},
     "output_type": "execute_result"
    }
   ],
   "source": [
    "reditclass_mapper = {\"Yes\":1,\"No\":0}\n",
    "data[\"is_reddit_media_domain\"] = data[\"is_reddit_media_domain\"].replace(reditclass_mapper)\n",
    "data[\"is_reddit_media_domain\"].head(5)"
   ]
  },
  {
   "cell_type": "code",
   "execution_count": 127,
   "id": "7c49d986-a52e-4c24-859c-61a3857a6cd2",
   "metadata": {},
   "outputs": [],
   "source": [
    "data.rename(columns = {'is_reddit_media_domain':'Reddit_Media'}, inplace = True)\n",
    "#data.author_premium = data.author_premium.replace({True: 1, False: 0})\n",
    "#data['Reddit_Media'].head(5)"
   ]
  },
  {
   "cell_type": "code",
   "execution_count": 128,
   "id": "0db1db21-0ae0-4066-9bdc-c0158d1bf8e1",
   "metadata": {},
   "outputs": [],
   "source": [
    "#data.is_original_content = data.is_original_content.replace({True: 1, False: 0})"
   ]
  },
  {
   "cell_type": "code",
   "execution_count": 129,
   "id": "a1507359-56de-4e45-89b0-fda776634c35",
   "metadata": {},
   "outputs": [],
   "source": [
    "data.rename(columns = {'pwls':'Up_Reach'}, inplace = True)\n",
    "data.rename(columns = {'wls':'Down_Reach'}, inplace = True)\n"
   ]
  },
  {
   "cell_type": "code",
   "execution_count": 130,
   "id": "44fda552-2eb0-4842-a0ad-42666d450158",
   "metadata": {},
   "outputs": [],
   "source": [
    "data2=data[[\"Reddit_Media\",\"subreddit_subscribers\",\"score\",\"num_comments\",\"num_crossposts\",\"Up_Reach\",\"Down_Reach\"]]"
   ]
  },
  {
   "cell_type": "code",
   "execution_count": 131,
   "id": "6d59f730-e8e5-448c-a172-5ea9949fdff9",
   "metadata": {},
   "outputs": [
    {
     "data": {
      "text/html": [
       "<div>\n",
       "<style scoped>\n",
       "    .dataframe tbody tr th:only-of-type {\n",
       "        vertical-align: middle;\n",
       "    }\n",
       "\n",
       "    .dataframe tbody tr th {\n",
       "        vertical-align: top;\n",
       "    }\n",
       "\n",
       "    .dataframe thead th {\n",
       "        text-align: right;\n",
       "    }\n",
       "</style>\n",
       "<table border=\"1\" class=\"dataframe\">\n",
       "  <thead>\n",
       "    <tr style=\"text-align: right;\">\n",
       "      <th></th>\n",
       "      <th>Reddit_Media</th>\n",
       "      <th>subreddit_subscribers</th>\n",
       "      <th>score</th>\n",
       "      <th>num_comments</th>\n",
       "      <th>num_crossposts</th>\n",
       "      <th>Up_Reach</th>\n",
       "      <th>Down_Reach</th>\n",
       "    </tr>\n",
       "  </thead>\n",
       "  <tbody>\n",
       "    <tr>\n",
       "      <th>0</th>\n",
       "      <td>0</td>\n",
       "      <td>322320.0</td>\n",
       "      <td>1.0</td>\n",
       "      <td>0.0</td>\n",
       "      <td>0.0</td>\n",
       "      <td>6.0</td>\n",
       "      <td>6.0</td>\n",
       "    </tr>\n",
       "    <tr>\n",
       "      <th>1</th>\n",
       "      <td>1</td>\n",
       "      <td>322320.0</td>\n",
       "      <td>1.0</td>\n",
       "      <td>0.0</td>\n",
       "      <td>0.0</td>\n",
       "      <td>6.0</td>\n",
       "      <td>6.0</td>\n",
       "    </tr>\n",
       "    <tr>\n",
       "      <th>2</th>\n",
       "      <td>1</td>\n",
       "      <td>322320.0</td>\n",
       "      <td>1.0</td>\n",
       "      <td>1.0</td>\n",
       "      <td>0.0</td>\n",
       "      <td>6.0</td>\n",
       "      <td>6.0</td>\n",
       "    </tr>\n",
       "    <tr>\n",
       "      <th>3</th>\n",
       "      <td>1</td>\n",
       "      <td>322319.0</td>\n",
       "      <td>1.0</td>\n",
       "      <td>0.0</td>\n",
       "      <td>0.0</td>\n",
       "      <td>6.0</td>\n",
       "      <td>6.0</td>\n",
       "    </tr>\n",
       "    <tr>\n",
       "      <th>4</th>\n",
       "      <td>1</td>\n",
       "      <td>322319.0</td>\n",
       "      <td>1.0</td>\n",
       "      <td>0.0</td>\n",
       "      <td>0.0</td>\n",
       "      <td>6.0</td>\n",
       "      <td>6.0</td>\n",
       "    </tr>\n",
       "  </tbody>\n",
       "</table>\n",
       "</div>"
      ],
      "text/plain": [
       "  Reddit_Media  subreddit_subscribers  score  num_comments  num_crossposts  \\\n",
       "0            0               322320.0    1.0           0.0             0.0   \n",
       "1            1               322320.0    1.0           0.0             0.0   \n",
       "2            1               322320.0    1.0           1.0             0.0   \n",
       "3            1               322319.0    1.0           0.0             0.0   \n",
       "4            1               322319.0    1.0           0.0             0.0   \n",
       "\n",
       "   Up_Reach  Down_Reach  \n",
       "0       6.0         6.0  \n",
       "1       6.0         6.0  \n",
       "2       6.0         6.0  \n",
       "3       6.0         6.0  \n",
       "4       6.0         6.0  "
      ]
     },
     "execution_count": 131,
     "metadata": {},
     "output_type": "execute_result"
    }
   ],
   "source": [
    "data2.head(5)"
   ]
  },
  {
   "cell_type": "code",
   "execution_count": 132,
   "id": "249c441d-d98b-44fb-bdb5-1efa43c2f019",
   "metadata": {},
   "outputs": [],
   "source": [
    "#Train And Test Divide"
   ]
  },
  {
   "cell_type": "code",
   "execution_count": 133,
   "id": "0d98d124-5f0f-4d4e-9af2-04d11200e073",
   "metadata": {},
   "outputs": [],
   "source": [
    "x = data2.iloc[:100000,1:7].values\n",
    "y = data2.iloc[:100000, 0].values\n",
    "xtrain, xtest, ytrain, ytest = train_test_split(x, y, test_size = 0.3, random_state = 0)"
   ]
  },
  {
   "cell_type": "code",
   "execution_count": 134,
   "id": "a17cdcc2-d811-40c0-b0a2-4959c3e4ea0c",
   "metadata": {},
   "outputs": [],
   "source": [
    "#KFold Cross Validation"
   ]
  },
  {
   "cell_type": "code",
   "execution_count": 135,
   "id": "053b9de1-acaf-40b2-8d94-c5eb1f46b6e4",
   "metadata": {},
   "outputs": [
    {
     "name": "stdout",
     "output_type": "stream",
     "text": [
      "KFold(n_splits=10, random_state=None, shuffle=False)\n"
     ]
    }
   ],
   "source": [
    "koldcross=KFold(n_splits=10,random_state=None,shuffle=False)\n",
    "print(koldcross)"
   ]
  },
  {
   "cell_type": "code",
   "execution_count": 136,
   "id": "d4156660-82d0-4555-b7c8-0f245ff6014d",
   "metadata": {},
   "outputs": [
    {
     "name": "stdout",
     "output_type": "stream",
     "text": [
      "[[3.13725e+05 1.00000e+00 2.40400e+03 0.00000e+00 6.00000e+00 6.00000e+00]\n",
      " [3.13724e+05 1.00000e+00 0.00000e+00 0.00000e+00 6.00000e+00 6.00000e+00]\n",
      " [3.13724e+05 1.00000e+00 0.00000e+00 0.00000e+00 6.00000e+00 6.00000e+00]\n",
      " ...\n",
      " [2.52497e+05 3.00000e+00 0.00000e+00 0.00000e+00 6.00000e+00 6.00000e+00]\n",
      " [2.52497e+05 2.50000e+01 1.00000e+00 0.00000e+00 6.00000e+00 6.00000e+00]\n",
      " [2.52497e+05 4.00000e+00 1.00000e+00 0.00000e+00 6.00000e+00 6.00000e+00]]\n",
      "[1 0 0 ... 1 1 1]\n",
      "[[3.22320e+05 1.00000e+00 0.00000e+00 0.00000e+00 6.00000e+00 6.00000e+00]\n",
      " [3.22320e+05 1.00000e+00 0.00000e+00 0.00000e+00 6.00000e+00 6.00000e+00]\n",
      " [3.22320e+05 1.00000e+00 1.00000e+00 0.00000e+00 6.00000e+00 6.00000e+00]\n",
      " ...\n",
      " [2.52497e+05 3.00000e+00 0.00000e+00 0.00000e+00 6.00000e+00 6.00000e+00]\n",
      " [2.52497e+05 2.50000e+01 1.00000e+00 0.00000e+00 6.00000e+00 6.00000e+00]\n",
      " [2.52497e+05 4.00000e+00 1.00000e+00 0.00000e+00 6.00000e+00 6.00000e+00]]\n",
      "[0 1 1 ... 1 1 1]\n",
      "[[3.22320e+05 1.00000e+00 0.00000e+00 0.00000e+00 6.00000e+00 6.00000e+00]\n",
      " [3.22320e+05 1.00000e+00 0.00000e+00 0.00000e+00 6.00000e+00 6.00000e+00]\n",
      " [3.22320e+05 1.00000e+00 1.00000e+00 0.00000e+00 6.00000e+00 6.00000e+00]\n",
      " ...\n",
      " [2.52497e+05 3.00000e+00 0.00000e+00 0.00000e+00 6.00000e+00 6.00000e+00]\n",
      " [2.52497e+05 2.50000e+01 1.00000e+00 0.00000e+00 6.00000e+00 6.00000e+00]\n",
      " [2.52497e+05 4.00000e+00 1.00000e+00 0.00000e+00 6.00000e+00 6.00000e+00]]\n",
      "[0 1 1 ... 1 1 1]\n",
      "[[3.22320e+05 1.00000e+00 0.00000e+00 0.00000e+00 6.00000e+00 6.00000e+00]\n",
      " [3.22320e+05 1.00000e+00 0.00000e+00 0.00000e+00 6.00000e+00 6.00000e+00]\n",
      " [3.22320e+05 1.00000e+00 1.00000e+00 0.00000e+00 6.00000e+00 6.00000e+00]\n",
      " ...\n",
      " [2.52497e+05 3.00000e+00 0.00000e+00 0.00000e+00 6.00000e+00 6.00000e+00]\n",
      " [2.52497e+05 2.50000e+01 1.00000e+00 0.00000e+00 6.00000e+00 6.00000e+00]\n",
      " [2.52497e+05 4.00000e+00 1.00000e+00 0.00000e+00 6.00000e+00 6.00000e+00]]\n",
      "[0 1 1 ... 1 1 1]\n",
      "[[3.22320e+05 1.00000e+00 0.00000e+00 0.00000e+00 6.00000e+00 6.00000e+00]\n",
      " [3.22320e+05 1.00000e+00 0.00000e+00 0.00000e+00 6.00000e+00 6.00000e+00]\n",
      " [3.22320e+05 1.00000e+00 1.00000e+00 0.00000e+00 6.00000e+00 6.00000e+00]\n",
      " ...\n",
      " [2.52497e+05 3.00000e+00 0.00000e+00 0.00000e+00 6.00000e+00 6.00000e+00]\n",
      " [2.52497e+05 2.50000e+01 1.00000e+00 0.00000e+00 6.00000e+00 6.00000e+00]\n",
      " [2.52497e+05 4.00000e+00 1.00000e+00 0.00000e+00 6.00000e+00 6.00000e+00]]\n",
      "[0 1 1 ... 1 1 1]\n",
      "[[3.22320e+05 1.00000e+00 0.00000e+00 0.00000e+00 6.00000e+00 6.00000e+00]\n",
      " [3.22320e+05 1.00000e+00 0.00000e+00 0.00000e+00 6.00000e+00 6.00000e+00]\n",
      " [3.22320e+05 1.00000e+00 1.00000e+00 0.00000e+00 6.00000e+00 6.00000e+00]\n",
      " ...\n",
      " [2.52497e+05 3.00000e+00 0.00000e+00 0.00000e+00 6.00000e+00 6.00000e+00]\n",
      " [2.52497e+05 2.50000e+01 1.00000e+00 0.00000e+00 6.00000e+00 6.00000e+00]\n",
      " [2.52497e+05 4.00000e+00 1.00000e+00 0.00000e+00 6.00000e+00 6.00000e+00]]\n",
      "[0 1 1 ... 1 1 1]\n",
      "[[3.22320e+05 1.00000e+00 0.00000e+00 0.00000e+00 6.00000e+00 6.00000e+00]\n",
      " [3.22320e+05 1.00000e+00 0.00000e+00 0.00000e+00 6.00000e+00 6.00000e+00]\n",
      " [3.22320e+05 1.00000e+00 1.00000e+00 0.00000e+00 6.00000e+00 6.00000e+00]\n",
      " ...\n",
      " [2.52497e+05 3.00000e+00 0.00000e+00 0.00000e+00 6.00000e+00 6.00000e+00]\n",
      " [2.52497e+05 2.50000e+01 1.00000e+00 0.00000e+00 6.00000e+00 6.00000e+00]\n",
      " [2.52497e+05 4.00000e+00 1.00000e+00 0.00000e+00 6.00000e+00 6.00000e+00]]\n",
      "[0 1 1 ... 1 1 1]\n",
      "[[3.22320e+05 1.00000e+00 0.00000e+00 0.00000e+00 6.00000e+00 6.00000e+00]\n",
      " [3.22320e+05 1.00000e+00 0.00000e+00 0.00000e+00 6.00000e+00 6.00000e+00]\n",
      " [3.22320e+05 1.00000e+00 1.00000e+00 0.00000e+00 6.00000e+00 6.00000e+00]\n",
      " ...\n",
      " [2.52497e+05 3.00000e+00 0.00000e+00 0.00000e+00 6.00000e+00 6.00000e+00]\n",
      " [2.52497e+05 2.50000e+01 1.00000e+00 0.00000e+00 6.00000e+00 6.00000e+00]\n",
      " [2.52497e+05 4.00000e+00 1.00000e+00 0.00000e+00 6.00000e+00 6.00000e+00]]\n",
      "[0 1 1 ... 1 1 1]\n",
      "[[3.22320e+05 1.00000e+00 0.00000e+00 0.00000e+00 6.00000e+00 6.00000e+00]\n",
      " [3.22320e+05 1.00000e+00 0.00000e+00 0.00000e+00 6.00000e+00 6.00000e+00]\n",
      " [3.22320e+05 1.00000e+00 1.00000e+00 0.00000e+00 6.00000e+00 6.00000e+00]\n",
      " ...\n",
      " [2.52497e+05 3.00000e+00 0.00000e+00 0.00000e+00 6.00000e+00 6.00000e+00]\n",
      " [2.52497e+05 2.50000e+01 1.00000e+00 0.00000e+00 6.00000e+00 6.00000e+00]\n",
      " [2.52497e+05 4.00000e+00 1.00000e+00 0.00000e+00 6.00000e+00 6.00000e+00]]\n",
      "[0 1 1 ... 1 1 1]\n",
      "[[3.22320e+05 1.00000e+00 0.00000e+00 0.00000e+00 6.00000e+00 6.00000e+00]\n",
      " [3.22320e+05 1.00000e+00 0.00000e+00 0.00000e+00 6.00000e+00 6.00000e+00]\n",
      " [3.22320e+05 1.00000e+00 1.00000e+00 0.00000e+00 6.00000e+00 6.00000e+00]\n",
      " ...\n",
      " [2.57332e+05 1.00000e+00 0.00000e+00 0.00000e+00 6.00000e+00 6.00000e+00]\n",
      " [2.57331e+05 1.00000e+00 0.00000e+00 0.00000e+00 6.00000e+00 6.00000e+00]\n",
      " [2.57330e+05 1.00000e+00 0.00000e+00 0.00000e+00 6.00000e+00 6.00000e+00]]\n",
      "[0 1 1 ... 1 1 1]\n"
     ]
    }
   ],
   "source": [
    "for train_index,test_index in koldcross.split(x,y):        #fold cross validation\n",
    "    xtrain,xtest=x[train_index],x[test_index]\n",
    "    ytrain,ytest=y[train_index],y[test_index]\n",
    "    print(xtrain)\n",
    "    print(ytrain) "
   ]
  },
  {
   "cell_type": "code",
   "execution_count": 137,
   "id": "070e75fd-906b-4982-b8cf-5bcc9e1aee43",
   "metadata": {},
   "outputs": [],
   "source": [
    "#Bootstrap sampling"
   ]
  },
  {
   "cell_type": "code",
   "execution_count": 138,
   "id": "49e3996c-d35c-4695-8d82-804655600e58",
   "metadata": {},
   "outputs": [],
   "source": [
    "xsample,ysample=resample(x,y,replace=True,n_samples=None,random_state=0) "
   ]
  },
  {
   "cell_type": "code",
   "execution_count": 139,
   "id": "de48c436-0eae-47b3-8686-53760cda4f91",
   "metadata": {},
   "outputs": [
    {
     "name": "stdout",
     "output_type": "stream",
     "text": [
      "[[2.70893e+05 1.00000e+00 0.00000e+00 0.00000e+00 6.00000e+00 6.00000e+00]\n",
      " [2.86733e+05 1.00000e+00 2.00000e+00 0.00000e+00 6.00000e+00 6.00000e+00]\n",
      " [2.87249e+05 1.00000e+00 2.00000e+00 0.00000e+00 6.00000e+00 6.00000e+00]\n",
      " ...\n",
      " [2.90815e+05 1.00000e+00 1.70000e+01 0.00000e+00 6.00000e+00 6.00000e+00]\n",
      " [2.75509e+05 1.00000e+00 0.00000e+00 0.00000e+00 6.00000e+00 6.00000e+00]\n",
      " [2.74145e+05 1.00000e+00 3.00000e+00 0.00000e+00 6.00000e+00 6.00000e+00]]\n",
      "[1 1 1 ... 1 1 1]\n"
     ]
    }
   ],
   "source": [
    "print(xsample)\n",
    "print(ysample)"
   ]
  },
  {
   "cell_type": "code",
   "execution_count": 140,
   "id": "61d91e87-7fb2-47cc-ae0c-789e81bc94a4",
   "metadata": {},
   "outputs": [],
   "source": [
    "#Classfication Model"
   ]
  },
  {
   "cell_type": "code",
   "execution_count": 141,
   "id": "2a2b84aa-b673-444e-a7a0-bf6e0620af59",
   "metadata": {},
   "outputs": [],
   "source": [
    "def classify_report(ytest,y_pred):\n",
    "        cm = confusion_matrix(ytest, y_pred)\n",
    "        print (\"Confusion Matrix : \\n\", cm)\n",
    "        error_rate = 1 - accuracy_score(ytest, y_pred)\n",
    "        print (\"Classification Report:\\n\")\n",
    "        print(classification_report(ytest,y_pred))\n",
    "        print(\"Accuracy: \\n\", accuracy_score(ytest, y_pred))\n",
    "        print(\"Error Rate: \\n\",error_rate )\n",
    "        print(\"Kappa Score: \\n\", cohen_kappa_score(ytest, y_pred))"
   ]
  },
  {
   "cell_type": "code",
   "execution_count": 142,
   "id": "bc598594-65ca-4052-9448-7dd278cc039a",
   "metadata": {},
   "outputs": [
    {
     "data": {
      "text/plain": [
       "(90000, 6)"
      ]
     },
     "execution_count": 142,
     "metadata": {},
     "output_type": "execute_result"
    }
   ],
   "source": [
    "ytrain.shape\n",
    "xtrain.shape"
   ]
  },
  {
   "cell_type": "code",
   "execution_count": 143,
   "id": "09673346-94ce-409e-8c98-83b3bbfe994e",
   "metadata": {},
   "outputs": [
    {
     "name": "stdout",
     "output_type": "stream",
     "text": [
      "Confusion Matrix : \n",
      " [[   79  5146]\n",
      " [  229 24546]]\n",
      "Classification Report:\n",
      "\n",
      "              precision    recall  f1-score   support\n",
      "\n",
      "           0       0.26      0.02      0.03      5225\n",
      "           1       0.83      0.99      0.90     24775\n",
      "\n",
      "    accuracy                           0.82     30000\n",
      "   macro avg       0.54      0.50      0.46     30000\n",
      "weighted avg       0.73      0.82      0.75     30000\n",
      "\n",
      "Accuracy: \n",
      " 0.8208333333333333\n",
      "Error Rate: \n",
      " 0.1791666666666667\n",
      "Kappa Score: \n",
      " 0.009346850859549005\n"
     ]
    }
   ],
   "source": [
    "from sklearn.naive_bayes import GaussianNB\n",
    "from sklearn.model_selection import train_test_split\n",
    "x = data2.iloc[:100000,1:7].astype('int')\n",
    "y = data2.iloc[:100000, 0].astype('int')\n",
    "xtrain, xtest, ytrain, ytest = train_test_split(x, y, test_size = 0.3, random_state = 0)\n",
    "xsample,ysample=resample(x,y,replace=True,n_samples=None,random_state=0) \n",
    "gnb = GaussianNB()\n",
    "gnb.fit(xtrain,ytrain)\n",
    "y_pred_nb = gnb.predict(xtest)\n",
    "classify_report(ytest,y_pred_nb)"
   ]
  },
  {
   "cell_type": "code",
   "execution_count": 144,
   "id": "f72b97d5",
   "metadata": {},
   "outputs": [],
   "source": [
    "import matplotlib.pyplot as plt\n",
    "from sklearn.metrics import roc_curve,roc_auc_score"
   ]
  },
  {
   "cell_type": "code",
   "execution_count": 145,
   "id": "27190857",
   "metadata": {},
   "outputs": [
    {
     "name": "stdout",
     "output_type": "stream",
     "text": [
      "0.5029382142632979\n"
     ]
    }
   ],
   "source": [
    "tpr,fpr,thersholds=roc_curve(ytest,y_pred_nb,pos_label=1,drop_intermediate=False)\n",
    "auc_score_nb=roc_auc_score(ytest,y_pred_nb)\n",
    "print(auc_score_nb)"
   ]
  },
  {
   "cell_type": "code",
   "execution_count": 146,
   "id": "8405acac",
   "metadata": {},
   "outputs": [
    {
     "data": {
      "image/png": "[encoded data removed]",
      "text/plain": [
       "<Figure size 800x600 with 1 Axes>"
      ]
     },
     "metadata": {},
     "output_type": "display_data"
    }
   ],
   "source": [
    "fig=plt.figure(figsize=(8,6))\n",
    "plt.plot(tpr,fpr,label=\"NB %2f\"%auc_score_nb)\n",
    "plt.legend(['Best'])\n",
    "plt.plot([0,1],[0,1],'--')\n",
    "plt.xlim([0.0,1.0])\n",
    "plt.ylim([0.0,1.0])\n",
    "plt.ylabel('TPR')\n",
    "plt.xlabel('FPR')\n",
    "plt.title('ROC Analysis')\n",
    "plt.show()"
   ]
  },
  {
   "cell_type": "code",
   "execution_count": 147,
   "id": "d6145d9e-139a-476c-884d-c6ff6b4b4dcb",
   "metadata": {},
   "outputs": [
    {
     "name": "stdout",
     "output_type": "stream",
     "text": [
      "Confusion Matrix : \n",
      " [[ 1374  3851]\n",
      " [ 4319 20456]]\n",
      "Classification Report:\n",
      "\n",
      "              precision    recall  f1-score   support\n",
      "\n",
      "           0       0.24      0.26      0.25      5225\n",
      "           1       0.84      0.83      0.83     24775\n",
      "\n",
      "    accuracy                           0.73     30000\n",
      "   macro avg       0.54      0.54      0.54     30000\n",
      "weighted avg       0.74      0.73      0.73     30000\n",
      "\n",
      "Accuracy: \n",
      " 0.7276666666666667\n",
      "Error Rate: \n",
      " 0.2723333333333333\n",
      "Kappa Score: \n",
      " 0.08561204395553557\n"
     ]
    }
   ],
   "source": [
    "from sklearn import tree\n",
    "#from sklearn.naive_bayes import GaussianNB\n",
    "from sklearn.model_selection import train_test_split\n",
    "x = data2.iloc[:100000,1:7].astype('int')\n",
    "y = data2.iloc[:100000, 0].astype('int')\n",
    "# decision tree model creation\n",
    "dtc = tree.DecisionTreeClassifier()\n",
    "dtc.fit(xtrain,ytrain)\n",
    "# predictions\n",
    "y_pred_dtc = dtc.predict(xtest)\n",
    "classify_report(ytest,y_pred_dtc)"
   ]
  },
  {
   "cell_type": "code",
   "execution_count": 148,
   "id": "ebf03bec",
   "metadata": {},
   "outputs": [
    {
     "name": "stdout",
     "output_type": "stream",
     "text": [
      "0.5443187732656106\n"
     ]
    }
   ],
   "source": [
    "tpr,fpr,thersholds=roc_curve(ytest,y_pred_dtc,pos_label=1,drop_intermediate=False)\n",
    "auc_score_dtc=roc_auc_score(ytest,y_pred_dtc)\n",
    "print(auc_score_dtc)"
   ]
  },
  {
   "cell_type": "code",
   "execution_count": 152,
   "id": "ea6462ef",
   "metadata": {},
   "outputs": [
    {
     "data": {
      "image/png": "[encoded data removed]",
      "text/plain": [
       "<Figure size 800x600 with 1 Axes>"
      ]
     },
     "metadata": {},
     "output_type": "display_data"
    }
   ],
   "source": [
    "fig=plt.figure(figsize=(8,6))\n",
    "plt.plot(tpr,fpr,label=\"NB %2f\"%auc_score_dtc)\n",
    "plt.legend(['Best Descion Tree'])\n",
    "plt.plot([0,1],[0,1],'--')\n",
    "plt.xlim([0.0,1.0])\n",
    "plt.ylim([0.0,1.0])\n",
    "plt.ylabel('TPR')\n",
    "plt.xlabel('FPR')\n",
    "plt.title('ROC Analysis')\n",
    "plt.show()   #M"
   ]
  },
  {
   "cell_type": "code",
   "execution_count": 151,
   "id": "072df690-ec71-4bd4-8fa9-e28092b97f50",
   "metadata": {},
   "outputs": [
    {
     "name": "stdout",
     "output_type": "stream",
     "text": [
      "Confusion Matrix : \n",
      " [[  389  4836]\n",
      " [  940 23835]]\n",
      "Classification Report:\n",
      "\n",
      "              precision    recall  f1-score   support\n",
      "\n",
      "           0       0.29      0.07      0.12      5225\n",
      "           1       0.83      0.96      0.89     24775\n",
      "\n",
      "    accuracy                           0.81     30000\n",
      "   macro avg       0.56      0.52      0.51     30000\n",
      "weighted avg       0.74      0.81      0.76     30000\n",
      "\n",
      "Accuracy: \n",
      " 0.8074666666666667\n",
      "Error Rate: \n",
      " 0.19253333333333333\n",
      "Kappa Score: \n",
      " 0.05172576552704666\n"
     ]
    }
   ],
   "source": [
    "from sklearn.neighbors import KNeighborsClassifier\n",
    "from sklearn.model_selection import train_test_split\n",
    "x = data2.iloc[:1000,1:7].astype('int')\n",
    "y = data2.iloc[:1000, 0].astype('int')\n",
    "# decision tree model creation\n",
    "knn = KNeighborsClassifier(n_neighbors=10)\n",
    "#Fit a model\n",
    "knn.fit(xtrain,ytrain)\n",
    "# Perform predictions\n",
    "y_pred_knn = knn.predict(xtest)\n",
    "#Classification report\n",
    "classify_report(ytest,y_pred_knn)"
   ]
  },
  {
   "cell_type": "code",
   "execution_count": 153,
   "id": "0e5f8f62",
   "metadata": {},
   "outputs": [
    {
     "name": "stdout",
     "output_type": "stream",
     "text": [
      "0.5182541437531081\n"
     ]
    }
   ],
   "source": [
    "tpr,fpr,thersholds=roc_curve(ytest,y_pred_knn,pos_label=1,drop_intermediate=False)\n",
    "auc_score_knn=roc_auc_score(ytest,y_pred_knn)\n",
    "print(auc_score_knn)"
   ]
  },
  {
   "cell_type": "code",
   "execution_count": 154,
   "id": "aafdbafe",
   "metadata": {},
   "outputs": [
    {
     "data": {
      "image/png": "[encoded data removed]",
      "text/plain": [
       "<Figure size 800x600 with 1 Axes>"
      ]
     },
     "metadata": {},
     "output_type": "display_data"
    }
   ],
   "source": [
    "fig=plt.figure(figsize=(8,6))\n",
    "plt.plot(tpr,fpr,label=\"NB %2f\"%auc_score_knn)\n",
    "plt.legend(['Best KNN'])\n",
    "plt.plot([0,1],[0,1],'--')\n",
    "plt.xlim([0.0,1.0])\n",
    "plt.ylim([0.0,1.0])\n",
    "plt.ylabel('TPR')\n",
    "plt.xlabel('FPR')\n",
    "plt.title('ROC Analysis')\n",
    "plt.show()"
   ]
  },
  {
   "cell_type": "code",
   "execution_count": 155,
   "id": "3ff0e73e-e554-457d-be43-7d3425112e57",
   "metadata": {},
   "outputs": [
    {
     "name": "stdout",
     "output_type": "stream",
     "text": [
      "Confusion Matrix : \n",
      " [[ 1114  4111]\n",
      " [ 3290 21485]]\n",
      "Classification Report:\n",
      "\n",
      "              precision    recall  f1-score   support\n",
      "\n",
      "           0       0.25      0.21      0.23      5225\n",
      "           1       0.84      0.87      0.85     24775\n",
      "\n",
      "    accuracy                           0.75     30000\n",
      "   macro avg       0.55      0.54      0.54     30000\n",
      "weighted avg       0.74      0.75      0.74     30000\n",
      "\n",
      "Accuracy: \n",
      " 0.7533\n",
      "Error Rate: \n",
      " 0.24670000000000003\n",
      "Kappa Score: \n",
      " 0.08572515670282921\n"
     ]
    }
   ],
   "source": [
    "from sklearn.ensemble import RandomForestClassifier\n",
    "from sklearn.model_selection import train_test_split\n",
    "x = data2.iloc[:1000,1:7].astype('int')\n",
    "y = data2.iloc[:1000, 0].astype('int')\n",
    "# random forest model creation\n",
    "rfc = RandomForestClassifier(n_estimators=5)\n",
    "#Fit the model\n",
    "rfc.fit(xtrain,ytrain)\n",
    "#Perform predictions\n",
    "y_pred_rfc = rfc.predict(xtest)\n",
    "#Classification report\n",
    "classify_report(ytest,y_pred_rfc)"
   ]
  },
  {
   "cell_type": "code",
   "execution_count": 156,
   "id": "8da48484",
   "metadata": {},
   "outputs": [
    {
     "name": "stdout",
     "output_type": "stream",
     "text": [
      "0.5402052926095626\n"
     ]
    }
   ],
   "source": [
    "tpr,fpr,thersholds=roc_curve(ytest,y_pred_rfc,pos_label=1,drop_intermediate=False)\n",
    "auc_score_rfc=roc_auc_score(ytest,y_pred_rfc)\n",
    "print(auc_score_rfc)"
   ]
  },
  {
   "cell_type": "code",
   "execution_count": 157,
   "id": "51c684e1",
   "metadata": {},
   "outputs": [
    {
     "data": {
      "image/png": "[encoded data removed]",
      "text/plain": [
       "<Figure size 800x600 with 1 Axes>"
      ]
     },
     "metadata": {},
     "output_type": "display_data"
    }
   ],
   "source": [
    "fig=plt.figure(figsize=(8,6))\n",
    "plt.plot(tpr,fpr,label=\"NB %2f\"%auc_score_rfc)\n",
    "plt.legend(['Best'])\n",
    "plt.plot([0,1],[0,1],'--')\n",
    "plt.xlim([0.0,1.0])\n",
    "plt.ylim([0.0,1.0])\n",
    "plt.ylabel('TPR')\n",
    "plt.xlabel('FPR')\n",
    "plt.title('ROC Analysis')\n",
    "plt.show()    #H"
   ]
  },
  {
   "cell_type": "code",
   "execution_count": 158,
   "id": "211b3ead-d3ee-42af-98de-5a2d94fdb62b",
   "metadata": {},
   "outputs": [
    {
     "name": "stdout",
     "output_type": "stream",
     "text": [
      "Confusion Matrix : \n",
      " [[    0  5225]\n",
      " [    0 24775]]\n",
      "Classification Report:\n",
      "\n",
      "              precision    recall  f1-score   support\n",
      "\n",
      "           0       0.00      0.00      0.00      5225\n",
      "           1       0.83      1.00      0.90     24775\n",
      "\n",
      "    accuracy                           0.83     30000\n",
      "   macro avg       0.41      0.50      0.45     30000\n",
      "weighted avg       0.68      0.83      0.75     30000\n",
      "\n",
      "Accuracy: \n",
      " 0.8258333333333333\n",
      "Error Rate: \n",
      " 0.1741666666666667\n",
      "Kappa Score: \n",
      " 0.0\n"
     ]
    },
    {
     "name": "stderr",
     "output_type": "stream",
     "text": [
      "C:\\Users\\DELL\\AppData\\Roaming\\Python\\Python311\\site-packages\\sklearn\\metrics\\_classification.py:1344: UndefinedMetricWarning: Precision and F-score are ill-defined and being set to 0.0 in labels with no predicted samples. Use `zero_division` parameter to control this behavior.\n",
      "  _warn_prf(average, modifier, msg_start, len(result))\n",
      "C:\\Users\\DELL\\AppData\\Roaming\\Python\\Python311\\site-packages\\sklearn\\metrics\\_classification.py:1344: UndefinedMetricWarning: Precision and F-score are ill-defined and being set to 0.0 in labels with no predicted samples. Use `zero_division` parameter to control this behavior.\n",
      "  _warn_prf(average, modifier, msg_start, len(result))\n",
      "C:\\Users\\DELL\\AppData\\Roaming\\Python\\Python311\\site-packages\\sklearn\\metrics\\_classification.py:1344: UndefinedMetricWarning: Precision and F-score are ill-defined and being set to 0.0 in labels with no predicted samples. Use `zero_division` parameter to control this behavior.\n",
      "  _warn_prf(average, modifier, msg_start, len(result))\n"
     ]
    }
   ],
   "source": [
    "from sklearn.svm import SVC\n",
    "from sklearn.model_selection import train_test_split\n",
    "x = data2.iloc[:1000,1:7].astype('int')\n",
    "y = data2.iloc[:1000, 0].astype('int')\n",
    "svclassifier = SVC()\n",
    "svclassifier.fit(xtrain, ytrain)\n",
    "y_pred_svm = svclassifier.predict(xtest)\n",
    "classify_report(ytest,y_pred_svm)"
   ]
  },
  {
   "cell_type": "code",
   "execution_count": 159,
   "id": "92f172ff-1c9a-46f1-aba8-3d98cad0fe32",
   "metadata": {},
   "outputs": [
    {
     "name": "stdout",
     "output_type": "stream",
     "text": [
      "0.5\n"
     ]
    }
   ],
   "source": [
    "tpr,fpr,thersholds=roc_curve(ytest,y_pred_svm,pos_label=1,drop_intermediate=False)\n",
    "auc_score_svm=roc_auc_score(ytest,y_pred_svm)\n",
    "print(auc_score_svm)"
   ]
  },
  {
   "cell_type": "code",
   "execution_count": 160,
   "id": "254e63ca-40cf-4e47-8dcc-47f3a00d4723",
   "metadata": {},
   "outputs": [
    {
     "data": {
      "image/png": "[encoded data removed]",
      "text/plain": [
       "<Figure size 800x600 with 1 Axes>"
      ]
     },
     "metadata": {},
     "output_type": "display_data"
    }
   ],
   "source": [
    "fig=plt.figure(figsize=(8,6))\n",
    "plt.plot(tpr,fpr,label=\"NB %2f\"%auc_score_svm)\n",
    "plt.legend(['Best Descion Tree'])\n",
    "plt.plot([0,1],[0,1],'--')\n",
    "plt.xlim([0.0,1.0])\n",
    "plt.ylim([0.0,1.0])\n",
    "plt.ylabel('TPR')\n",
    "plt.xlabel('FPR')\n",
    "plt.title('ROC Analysis')\n",
    "plt.show()     "
   ]
  },
  {
   "cell_type": "code",
   "execution_count": 166,
   "id": "62cfe66c",
   "metadata": {},
   "outputs": [],
   "source": [
    "data3=data[[\"subreddit_subscribers\",\"score\",\"num_comments\",\"num_crossposts\",\"Up_Reach\",\"Down_Reach\"]]"
   ]
  },
  {
   "cell_type": "code",
   "execution_count": 167,
   "id": "8fee84cd",
   "metadata": {},
   "outputs": [
    {
     "data": {
      "text/html": [
       "<div>\n",
       "<style scoped>\n",
       "    .dataframe tbody tr th:only-of-type {\n",
       "        vertical-align: middle;\n",
       "    }\n",
       "\n",
       "    .dataframe tbody tr th {\n",
       "        vertical-align: top;\n",
       "    }\n",
       "\n",
       "    .dataframe thead th {\n",
       "        text-align: right;\n",
       "    }\n",
       "</style>\n",
       "<table border=\"1\" class=\"dataframe\">\n",
       "  <thead>\n",
       "    <tr style=\"text-align: right;\">\n",
       "      <th></th>\n",
       "      <th>subreddit_subscribers</th>\n",
       "      <th>score</th>\n",
       "      <th>num_comments</th>\n",
       "      <th>num_crossposts</th>\n",
       "      <th>Up_Reach</th>\n",
       "      <th>Down_Reach</th>\n",
       "    </tr>\n",
       "  </thead>\n",
       "  <tbody>\n",
       "    <tr>\n",
       "      <th>0</th>\n",
       "      <td>322320.0</td>\n",
       "      <td>1.0</td>\n",
       "      <td>0.0</td>\n",
       "      <td>0.0</td>\n",
       "      <td>6.0</td>\n",
       "      <td>6.0</td>\n",
       "    </tr>\n",
       "    <tr>\n",
       "      <th>1</th>\n",
       "      <td>322320.0</td>\n",
       "      <td>1.0</td>\n",
       "      <td>0.0</td>\n",
       "      <td>0.0</td>\n",
       "      <td>6.0</td>\n",
       "      <td>6.0</td>\n",
       "    </tr>\n",
       "    <tr>\n",
       "      <th>2</th>\n",
       "      <td>322320.0</td>\n",
       "      <td>1.0</td>\n",
       "      <td>1.0</td>\n",
       "      <td>0.0</td>\n",
       "      <td>6.0</td>\n",
       "      <td>6.0</td>\n",
       "    </tr>\n",
       "    <tr>\n",
       "      <th>3</th>\n",
       "      <td>322319.0</td>\n",
       "      <td>1.0</td>\n",
       "      <td>0.0</td>\n",
       "      <td>0.0</td>\n",
       "      <td>6.0</td>\n",
       "      <td>6.0</td>\n",
       "    </tr>\n",
       "    <tr>\n",
       "      <th>4</th>\n",
       "      <td>322319.0</td>\n",
       "      <td>1.0</td>\n",
       "      <td>0.0</td>\n",
       "      <td>0.0</td>\n",
       "      <td>6.0</td>\n",
       "      <td>6.0</td>\n",
       "    </tr>\n",
       "  </tbody>\n",
       "</table>\n",
       "</div>"
      ],
      "text/plain": [
       "   subreddit_subscribers  score  num_comments  num_crossposts  Up_Reach  \\\n",
       "0               322320.0    1.0           0.0             0.0       6.0   \n",
       "1               322320.0    1.0           0.0             0.0       6.0   \n",
       "2               322320.0    1.0           1.0             0.0       6.0   \n",
       "3               322319.0    1.0           0.0             0.0       6.0   \n",
       "4               322319.0    1.0           0.0             0.0       6.0   \n",
       "\n",
       "   Down_Reach  \n",
       "0         6.0  \n",
       "1         6.0  \n",
       "2         6.0  \n",
       "3         6.0  \n",
       "4         6.0  "
      ]
     },
     "execution_count": 167,
     "metadata": {},
     "output_type": "execute_result"
    }
   ],
   "source": [
    "data3.head(5)"
   ]
  },
  {
   "cell_type": "code",
   "execution_count": 172,
   "id": "1ef1d70f",
   "metadata": {},
   "outputs": [
    {
     "name": "stderr",
     "output_type": "stream",
     "text": [
      "C:\\Users\\DELL\\AppData\\Roaming\\Python\\Python311\\site-packages\\sklearn\\cluster\\_kmeans.py:870: FutureWarning: The default value of `n_init` will change from 10 to 'auto' in 1.4. Set the value of `n_init` explicitly to suppress the warning\n",
      "  warnings.warn(\n",
      "C:\\Users\\DELL\\AppData\\Local\\Temp\\ipykernel_6800\\1921192299.py:5: SettingWithCopyWarning: \n",
      "A value is trying to be set on a copy of a slice from a DataFrame.\n",
      "Try using .loc[row_indexer,col_indexer] = value instead\n",
      "\n",
      "See the caveats in the documentation: https://pandas.pydata.org/pandas-docs/stable/user_guide/indexing.html#returning-a-view-versus-a-copy\n",
      "  data3[\"clusterid\"] = clusters.labels_\n"
     ]
    },
    {
     "data": {
      "text/html": [
       "<div>\n",
       "<style scoped>\n",
       "    .dataframe tbody tr th:only-of-type {\n",
       "        vertical-align: middle;\n",
       "    }\n",
       "\n",
       "    .dataframe tbody tr th {\n",
       "        vertical-align: top;\n",
       "    }\n",
       "\n",
       "    .dataframe thead th {\n",
       "        text-align: right;\n",
       "    }\n",
       "</style>\n",
       "<table border=\"1\" class=\"dataframe\">\n",
       "  <thead>\n",
       "    <tr style=\"text-align: right;\">\n",
       "      <th></th>\n",
       "      <th>subreddit_subscribers</th>\n",
       "      <th>score</th>\n",
       "      <th>num_comments</th>\n",
       "      <th>num_crossposts</th>\n",
       "      <th>Up_Reach</th>\n",
       "      <th>Down_Reach</th>\n",
       "      <th>clusterid</th>\n",
       "    </tr>\n",
       "  </thead>\n",
       "  <tbody>\n",
       "    <tr>\n",
       "      <th>0</th>\n",
       "      <td>322320.0</td>\n",
       "      <td>1.0</td>\n",
       "      <td>0.0</td>\n",
       "      <td>0.0</td>\n",
       "      <td>6.0</td>\n",
       "      <td>6.0</td>\n",
       "      <td>1</td>\n",
       "    </tr>\n",
       "    <tr>\n",
       "      <th>1</th>\n",
       "      <td>322320.0</td>\n",
       "      <td>1.0</td>\n",
       "      <td>0.0</td>\n",
       "      <td>0.0</td>\n",
       "      <td>6.0</td>\n",
       "      <td>6.0</td>\n",
       "      <td>1</td>\n",
       "    </tr>\n",
       "    <tr>\n",
       "      <th>2</th>\n",
       "      <td>322320.0</td>\n",
       "      <td>1.0</td>\n",
       "      <td>1.0</td>\n",
       "      <td>0.0</td>\n",
       "      <td>6.0</td>\n",
       "      <td>6.0</td>\n",
       "      <td>1</td>\n",
       "    </tr>\n",
       "    <tr>\n",
       "      <th>3</th>\n",
       "      <td>322319.0</td>\n",
       "      <td>1.0</td>\n",
       "      <td>0.0</td>\n",
       "      <td>0.0</td>\n",
       "      <td>6.0</td>\n",
       "      <td>6.0</td>\n",
       "      <td>1</td>\n",
       "    </tr>\n",
       "    <tr>\n",
       "      <th>4</th>\n",
       "      <td>322319.0</td>\n",
       "      <td>1.0</td>\n",
       "      <td>0.0</td>\n",
       "      <td>0.0</td>\n",
       "      <td>6.0</td>\n",
       "      <td>6.0</td>\n",
       "      <td>1</td>\n",
       "    </tr>\n",
       "    <tr>\n",
       "      <th>5</th>\n",
       "      <td>322320.0</td>\n",
       "      <td>1.0</td>\n",
       "      <td>0.0</td>\n",
       "      <td>0.0</td>\n",
       "      <td>6.0</td>\n",
       "      <td>6.0</td>\n",
       "      <td>1</td>\n",
       "    </tr>\n",
       "    <tr>\n",
       "      <th>6</th>\n",
       "      <td>322319.0</td>\n",
       "      <td>1.0</td>\n",
       "      <td>0.0</td>\n",
       "      <td>0.0</td>\n",
       "      <td>6.0</td>\n",
       "      <td>6.0</td>\n",
       "      <td>1</td>\n",
       "    </tr>\n",
       "    <tr>\n",
       "      <th>7</th>\n",
       "      <td>322318.0</td>\n",
       "      <td>1.0</td>\n",
       "      <td>0.0</td>\n",
       "      <td>0.0</td>\n",
       "      <td>6.0</td>\n",
       "      <td>6.0</td>\n",
       "      <td>1</td>\n",
       "    </tr>\n",
       "    <tr>\n",
       "      <th>8</th>\n",
       "      <td>322318.0</td>\n",
       "      <td>1.0</td>\n",
       "      <td>0.0</td>\n",
       "      <td>0.0</td>\n",
       "      <td>6.0</td>\n",
       "      <td>6.0</td>\n",
       "      <td>1</td>\n",
       "    </tr>\n",
       "    <tr>\n",
       "      <th>9</th>\n",
       "      <td>322317.0</td>\n",
       "      <td>1.0</td>\n",
       "      <td>0.0</td>\n",
       "      <td>0.0</td>\n",
       "      <td>6.0</td>\n",
       "      <td>6.0</td>\n",
       "      <td>1</td>\n",
       "    </tr>\n",
       "    <tr>\n",
       "      <th>10</th>\n",
       "      <td>322317.0</td>\n",
       "      <td>1.0</td>\n",
       "      <td>2.0</td>\n",
       "      <td>0.0</td>\n",
       "      <td>6.0</td>\n",
       "      <td>6.0</td>\n",
       "      <td>1</td>\n",
       "    </tr>\n",
       "    <tr>\n",
       "      <th>11</th>\n",
       "      <td>322317.0</td>\n",
       "      <td>1.0</td>\n",
       "      <td>0.0</td>\n",
       "      <td>0.0</td>\n",
       "      <td>6.0</td>\n",
       "      <td>6.0</td>\n",
       "      <td>1</td>\n",
       "    </tr>\n",
       "    <tr>\n",
       "      <th>12</th>\n",
       "      <td>322318.0</td>\n",
       "      <td>1.0</td>\n",
       "      <td>0.0</td>\n",
       "      <td>0.0</td>\n",
       "      <td>6.0</td>\n",
       "      <td>6.0</td>\n",
       "      <td>1</td>\n",
       "    </tr>\n",
       "    <tr>\n",
       "      <th>13</th>\n",
       "      <td>322318.0</td>\n",
       "      <td>1.0</td>\n",
       "      <td>0.0</td>\n",
       "      <td>0.0</td>\n",
       "      <td>6.0</td>\n",
       "      <td>6.0</td>\n",
       "      <td>1</td>\n",
       "    </tr>\n",
       "    <tr>\n",
       "      <th>14</th>\n",
       "      <td>322318.0</td>\n",
       "      <td>1.0</td>\n",
       "      <td>1.0</td>\n",
       "      <td>0.0</td>\n",
       "      <td>6.0</td>\n",
       "      <td>6.0</td>\n",
       "      <td>1</td>\n",
       "    </tr>\n",
       "    <tr>\n",
       "      <th>15</th>\n",
       "      <td>322319.0</td>\n",
       "      <td>1.0</td>\n",
       "      <td>0.0</td>\n",
       "      <td>0.0</td>\n",
       "      <td>6.0</td>\n",
       "      <td>6.0</td>\n",
       "      <td>1</td>\n",
       "    </tr>\n",
       "    <tr>\n",
       "      <th>16</th>\n",
       "      <td>322319.0</td>\n",
       "      <td>1.0</td>\n",
       "      <td>0.0</td>\n",
       "      <td>0.0</td>\n",
       "      <td>6.0</td>\n",
       "      <td>6.0</td>\n",
       "      <td>1</td>\n",
       "    </tr>\n",
       "    <tr>\n",
       "      <th>17</th>\n",
       "      <td>322316.0</td>\n",
       "      <td>1.0</td>\n",
       "      <td>2.0</td>\n",
       "      <td>0.0</td>\n",
       "      <td>6.0</td>\n",
       "      <td>6.0</td>\n",
       "      <td>1</td>\n",
       "    </tr>\n",
       "    <tr>\n",
       "      <th>18</th>\n",
       "      <td>322316.0</td>\n",
       "      <td>1.0</td>\n",
       "      <td>0.0</td>\n",
       "      <td>0.0</td>\n",
       "      <td>6.0</td>\n",
       "      <td>6.0</td>\n",
       "      <td>1</td>\n",
       "    </tr>\n",
       "    <tr>\n",
       "      <th>19</th>\n",
       "      <td>322316.0</td>\n",
       "      <td>1.0</td>\n",
       "      <td>1.0</td>\n",
       "      <td>0.0</td>\n",
       "      <td>6.0</td>\n",
       "      <td>6.0</td>\n",
       "      <td>1</td>\n",
       "    </tr>\n",
       "    <tr>\n",
       "      <th>20</th>\n",
       "      <td>322316.0</td>\n",
       "      <td>1.0</td>\n",
       "      <td>1.0</td>\n",
       "      <td>0.0</td>\n",
       "      <td>6.0</td>\n",
       "      <td>6.0</td>\n",
       "      <td>1</td>\n",
       "    </tr>\n",
       "    <tr>\n",
       "      <th>21</th>\n",
       "      <td>322316.0</td>\n",
       "      <td>1.0</td>\n",
       "      <td>0.0</td>\n",
       "      <td>0.0</td>\n",
       "      <td>6.0</td>\n",
       "      <td>6.0</td>\n",
       "      <td>1</td>\n",
       "    </tr>\n",
       "    <tr>\n",
       "      <th>22</th>\n",
       "      <td>322315.0</td>\n",
       "      <td>1.0</td>\n",
       "      <td>0.0</td>\n",
       "      <td>0.0</td>\n",
       "      <td>6.0</td>\n",
       "      <td>6.0</td>\n",
       "      <td>1</td>\n",
       "    </tr>\n",
       "    <tr>\n",
       "      <th>23</th>\n",
       "      <td>322315.0</td>\n",
       "      <td>1.0</td>\n",
       "      <td>0.0</td>\n",
       "      <td>0.0</td>\n",
       "      <td>6.0</td>\n",
       "      <td>6.0</td>\n",
       "      <td>1</td>\n",
       "    </tr>\n",
       "    <tr>\n",
       "      <th>24</th>\n",
       "      <td>322312.0</td>\n",
       "      <td>1.0</td>\n",
       "      <td>3.0</td>\n",
       "      <td>0.0</td>\n",
       "      <td>6.0</td>\n",
       "      <td>6.0</td>\n",
       "      <td>1</td>\n",
       "    </tr>\n",
       "    <tr>\n",
       "      <th>25</th>\n",
       "      <td>322312.0</td>\n",
       "      <td>1.0</td>\n",
       "      <td>1.0</td>\n",
       "      <td>0.0</td>\n",
       "      <td>6.0</td>\n",
       "      <td>6.0</td>\n",
       "      <td>1</td>\n",
       "    </tr>\n",
       "    <tr>\n",
       "      <th>26</th>\n",
       "      <td>322311.0</td>\n",
       "      <td>1.0</td>\n",
       "      <td>1.0</td>\n",
       "      <td>0.0</td>\n",
       "      <td>6.0</td>\n",
       "      <td>6.0</td>\n",
       "      <td>1</td>\n",
       "    </tr>\n",
       "    <tr>\n",
       "      <th>27</th>\n",
       "      <td>322309.0</td>\n",
       "      <td>1.0</td>\n",
       "      <td>0.0</td>\n",
       "      <td>0.0</td>\n",
       "      <td>6.0</td>\n",
       "      <td>6.0</td>\n",
       "      <td>1</td>\n",
       "    </tr>\n",
       "    <tr>\n",
       "      <th>28</th>\n",
       "      <td>322309.0</td>\n",
       "      <td>1.0</td>\n",
       "      <td>6.0</td>\n",
       "      <td>0.0</td>\n",
       "      <td>6.0</td>\n",
       "      <td>6.0</td>\n",
       "      <td>1</td>\n",
       "    </tr>\n",
       "    <tr>\n",
       "      <th>29</th>\n",
       "      <td>322307.0</td>\n",
       "      <td>1.0</td>\n",
       "      <td>1.0</td>\n",
       "      <td>0.0</td>\n",
       "      <td>6.0</td>\n",
       "      <td>6.0</td>\n",
       "      <td>1</td>\n",
       "    </tr>\n",
       "  </tbody>\n",
       "</table>\n",
       "</div>"
      ],
      "text/plain": [
       "    subreddit_subscribers  score  num_comments  num_crossposts  Up_Reach  \\\n",
       "0                322320.0    1.0           0.0             0.0       6.0   \n",
       "1                322320.0    1.0           0.0             0.0       6.0   \n",
       "2                322320.0    1.0           1.0             0.0       6.0   \n",
       "3                322319.0    1.0           0.0             0.0       6.0   \n",
       "4                322319.0    1.0           0.0             0.0       6.0   \n",
       "5                322320.0    1.0           0.0             0.0       6.0   \n",
       "6                322319.0    1.0           0.0             0.0       6.0   \n",
       "7                322318.0    1.0           0.0             0.0       6.0   \n",
       "8                322318.0    1.0           0.0             0.0       6.0   \n",
       "9                322317.0    1.0           0.0             0.0       6.0   \n",
       "10               322317.0    1.0           2.0             0.0       6.0   \n",
       "11               322317.0    1.0           0.0             0.0       6.0   \n",
       "12               322318.0    1.0           0.0             0.0       6.0   \n",
       "13               322318.0    1.0           0.0             0.0       6.0   \n",
       "14               322318.0    1.0           1.0             0.0       6.0   \n",
       "15               322319.0    1.0           0.0             0.0       6.0   \n",
       "16               322319.0    1.0           0.0             0.0       6.0   \n",
       "17               322316.0    1.0           2.0             0.0       6.0   \n",
       "18               322316.0    1.0           0.0             0.0       6.0   \n",
       "19               322316.0    1.0           1.0             0.0       6.0   \n",
       "20               322316.0    1.0           1.0             0.0       6.0   \n",
       "21               322316.0    1.0           0.0             0.0       6.0   \n",
       "22               322315.0    1.0           0.0             0.0       6.0   \n",
       "23               322315.0    1.0           0.0             0.0       6.0   \n",
       "24               322312.0    1.0           3.0             0.0       6.0   \n",
       "25               322312.0    1.0           1.0             0.0       6.0   \n",
       "26               322311.0    1.0           1.0             0.0       6.0   \n",
       "27               322309.0    1.0           0.0             0.0       6.0   \n",
       "28               322309.0    1.0           6.0             0.0       6.0   \n",
       "29               322307.0    1.0           1.0             0.0       6.0   \n",
       "\n",
       "    Down_Reach  clusterid  \n",
       "0          6.0          1  \n",
       "1          6.0          1  \n",
       "2          6.0          1  \n",
       "3          6.0          1  \n",
       "4          6.0          1  \n",
       "5          6.0          1  \n",
       "6          6.0          1  \n",
       "7          6.0          1  \n",
       "8          6.0          1  \n",
       "9          6.0          1  \n",
       "10         6.0          1  \n",
       "11         6.0          1  \n",
       "12         6.0          1  \n",
       "13         6.0          1  \n",
       "14         6.0          1  \n",
       "15         6.0          1  \n",
       "16         6.0          1  \n",
       "17         6.0          1  \n",
       "18         6.0          1  \n",
       "19         6.0          1  \n",
       "20         6.0          1  \n",
       "21         6.0          1  \n",
       "22         6.0          1  \n",
       "23         6.0          1  \n",
       "24         6.0          1  \n",
       "25         6.0          1  \n",
       "26         6.0          1  \n",
       "27         6.0          1  \n",
       "28         6.0          1  \n",
       "29         6.0          1  "
      ]
     },
     "execution_count": 172,
     "metadata": {},
     "output_type": "execute_result"
    }
   ],
   "source": [
    "from sklearn.cluster import KMeans\n",
    "clusters = KMeans(2)\n",
    "#Compute k-means clustering.\n",
    "clusters.fit_predict(data3)\n",
    "data3[\"clusterid\"] = clusters.labels_\n",
    "data3[0:30]"
   ]
  },
  {
   "cell_type": "code",
   "execution_count": 170,
   "id": "bb7d3f7f",
   "metadata": {},
   "outputs": [
    {
     "name": "stderr",
     "output_type": "stream",
     "text": [
      "C:\\Users\\DELL\\AppData\\Roaming\\Python\\Python311\\site-packages\\sklearn\\cluster\\_kmeans.py:870: FutureWarning: The default value of `n_init` will change from 10 to 'auto' in 1.4. Set the value of `n_init` explicitly to suppress the warning\n",
      "  warnings.warn(\n",
      "C:\\Users\\DELL\\AppData\\Roaming\\Python\\Python311\\site-packages\\sklearn\\cluster\\_kmeans.py:870: FutureWarning: The default value of `n_init` will change from 10 to 'auto' in 1.4. Set the value of `n_init` explicitly to suppress the warning\n",
      "  warnings.warn(\n",
      "C:\\Users\\DELL\\AppData\\Roaming\\Python\\Python311\\site-packages\\sklearn\\cluster\\_kmeans.py:870: FutureWarning: The default value of `n_init` will change from 10 to 'auto' in 1.4. Set the value of `n_init` explicitly to suppress the warning\n",
      "  warnings.warn(\n",
      "C:\\Users\\DELL\\AppData\\Roaming\\Python\\Python311\\site-packages\\sklearn\\cluster\\_kmeans.py:870: FutureWarning: The default value of `n_init` will change from 10 to 'auto' in 1.4. Set the value of `n_init` explicitly to suppress the warning\n",
      "  warnings.warn(\n",
      "C:\\Users\\DELL\\AppData\\Roaming\\Python\\Python311\\site-packages\\sklearn\\cluster\\_kmeans.py:870: FutureWarning: The default value of `n_init` will change from 10 to 'auto' in 1.4. Set the value of `n_init` explicitly to suppress the warning\n",
      "  warnings.warn(\n",
      "C:\\Users\\DELL\\AppData\\Roaming\\Python\\Python311\\site-packages\\sklearn\\cluster\\_kmeans.py:870: FutureWarning: The default value of `n_init` will change from 10 to 'auto' in 1.4. Set the value of `n_init` explicitly to suppress the warning\n",
      "  warnings.warn(\n",
      "C:\\Users\\DELL\\AppData\\Roaming\\Python\\Python311\\site-packages\\sklearn\\cluster\\_kmeans.py:870: FutureWarning: The default value of `n_init` will change from 10 to 'auto' in 1.4. Set the value of `n_init` explicitly to suppress the warning\n",
      "  warnings.warn(\n",
      "C:\\Users\\DELL\\AppData\\Roaming\\Python\\Python311\\site-packages\\sklearn\\cluster\\_kmeans.py:870: FutureWarning: The default value of `n_init` will change from 10 to 'auto' in 1.4. Set the value of `n_init` explicitly to suppress the warning\n",
      "  warnings.warn(\n",
      "C:\\Users\\DELL\\AppData\\Roaming\\Python\\Python311\\site-packages\\sklearn\\cluster\\_kmeans.py:870: FutureWarning: The default value of `n_init` will change from 10 to 'auto' in 1.4. Set the value of `n_init` explicitly to suppress the warning\n",
      "  warnings.warn(\n",
      "C:\\Users\\DELL\\AppData\\Roaming\\Python\\Python311\\site-packages\\sklearn\\cluster\\_kmeans.py:870: FutureWarning: The default value of `n_init` will change from 10 to 'auto' in 1.4. Set the value of `n_init` explicitly to suppress the warning\n",
      "  warnings.warn(\n"
     ]
    },
    {
     "data": {
      "image/png": "[encoded data removed]",
      "text/plain": [
       "<Figure size 640x480 with 1 Axes>"
      ]
     },
     "metadata": {},
     "output_type": "display_data"
    }
   ],
   "source": [
    "from sklearn.cluster import KMeans\n",
    "import matplotlib.pyplot as plt\n",
    "wcss_list= [] #Initializing the list for the values of WCSS\n",
    "#Using for loop for iterations from 1 to 10.\n",
    "for i in range(1, 11):\n",
    "    kmeans = KMeans(n_clusters=i, init='k-means++', random_state= 0)\n",
    "    kmeans.fit(data3)\n",
    "    wcss_list.append(kmeans.inertia_)\n",
    "plt.plot(range(1, 11), wcss_list,marker=\"o\")\n",
    "plt.title('The Elbow Method Graph')\n",
    "plt.xlabel('Number of clusters(k)')\n",
    "plt.ylabel('wcss_list')\n",
    "plt.show()"
   ]
  },
  {
   "cell_type": "code",
   "execution_count": 174,
   "id": "91f1dc39",
   "metadata": {},
   "outputs": [
    {
     "name": "stderr",
     "output_type": "stream",
     "text": [
      "C:\\Users\\DELL\\AppData\\Roaming\\Python\\Python311\\site-packages\\sklearn\\cluster\\_kmeans.py:870: FutureWarning: The default value of `n_init` will change from 10 to 'auto' in 1.4. Set the value of `n_init` explicitly to suppress the warning\n",
      "  warnings.warn(\n",
      "C:\\Users\\DELL\\AppData\\Local\\Temp\\ipykernel_6800\\3574268028.py:7: SettingWithCopyWarning: \n",
      "A value is trying to be set on a copy of a slice from a DataFrame.\n",
      "Try using .loc[row_indexer,col_indexer] = value instead\n",
      "\n",
      "See the caveats in the documentation: https://pandas.pydata.org/pandas-docs/stable/user_guide/indexing.html#returning-a-view-versus-a-copy\n",
      "  data3['cluster'] = kmeans.fit_predict(data3[['Up_Reach','Down_Reach']])\n",
      "C:\\Users\\DELL\\AppData\\Local\\Temp\\ipykernel_6800\\3574268028.py:14: SettingWithCopyWarning: \n",
      "A value is trying to be set on a copy of a slice from a DataFrame.\n",
      "Try using .loc[row_indexer,col_indexer] = value instead\n",
      "\n",
      "See the caveats in the documentation: https://pandas.pydata.org/pandas-docs/stable/user_guide/indexing.html#returning-a-view-versus-a-copy\n",
      "  data3['cen_x'] = data3.cluster.map({0:cen_x[0], 1:cen_x[1], 2:cen_x[2]})\n",
      "C:\\Users\\DELL\\AppData\\Local\\Temp\\ipykernel_6800\\3574268028.py:15: SettingWithCopyWarning: \n",
      "A value is trying to be set on a copy of a slice from a DataFrame.\n",
      "Try using .loc[row_indexer,col_indexer] = value instead\n",
      "\n",
      "See the caveats in the documentation: https://pandas.pydata.org/pandas-docs/stable/user_guide/indexing.html#returning-a-view-versus-a-copy\n",
      "  data3['cen_y'] = data3.cluster.map({0:cen_y[0], 1:cen_y[1], 2:cen_y[2]})\n",
      "C:\\Users\\DELL\\AppData\\Local\\Temp\\ipykernel_6800\\3574268028.py:18: SettingWithCopyWarning: \n",
      "A value is trying to be set on a copy of a slice from a DataFrame.\n",
      "Try using .loc[row_indexer,col_indexer] = value instead\n",
      "\n",
      "See the caveats in the documentation: https://pandas.pydata.org/pandas-docs/stable/user_guide/indexing.html#returning-a-view-versus-a-copy\n",
      "  data3['c'] = data3.cluster.map({0:colors[0], 1:colors[1], 2:colors[2]})\n"
     ]
    },
    {
     "name": "stdout",
     "output_type": "stream",
     "text": [
      "[[5.00233510e+00 4.99674227e+00]\n",
      " [6.59916566e-13 1.82076576e-13]\n",
      " [5.99992489e+00 6.00000000e+00]]\n",
      "   subreddit_subscribers  score  num_comments  num_crossposts  Up_Reach  \\\n",
      "1               322320.0    1.0           0.0             0.0       6.0   \n",
      "2               322320.0    1.0           1.0             0.0       6.0   \n",
      "3               322319.0    1.0           0.0             0.0       6.0   \n",
      "4               322319.0    1.0           0.0             0.0       6.0   \n",
      "5               322320.0    1.0           0.0             0.0       6.0   \n",
      "6               322319.0    1.0           0.0             0.0       6.0   \n",
      "7               322318.0    1.0           0.0             0.0       6.0   \n",
      "8               322318.0    1.0           0.0             0.0       6.0   \n",
      "9               322317.0    1.0           0.0             0.0       6.0   \n",
      "\n",
      "   Down_Reach  clusterid  cluster     cen_x  cen_y      c  \n",
      "1         6.0          1        2  5.999925    6.0  brown  \n",
      "2         6.0          1        2  5.999925    6.0  brown  \n",
      "3         6.0          1        2  5.999925    6.0  brown  \n",
      "4         6.0          1        2  5.999925    6.0  brown  \n",
      "5         6.0          1        2  5.999925    6.0  brown  \n",
      "6         6.0          1        2  5.999925    6.0  brown  \n",
      "7         6.0          1        2  5.999925    6.0  brown  \n",
      "8         6.0          1        2  5.999925    6.0  brown  \n",
      "9         6.0          1        2  5.999925    6.0  brown  \n"
     ]
    },
    {
     "data": {
      "image/png": "[encoded data removed]",
      "text/plain": [
       "<Figure size 640x480 with 1 Axes>"
      ]
     },
     "metadata": {},
     "output_type": "display_data"
    }
   ],
   "source": [
    "from sklearn.cluster import KMeans\n",
    "import numpy as np\n",
    "import matplotlib.pyplot as plt\n",
    "# k means\n",
    "kmeans = KMeans(3)\n",
    "#Compute cluster centers and predict cluster index for each sample.\n",
    "data3['cluster'] = kmeans.fit_predict(data3[['Up_Reach','Down_Reach']])\n",
    "# get centroids\n",
    "centroids = kmeans.cluster_centers_\n",
    "print(centroids)\n",
    "cen_x = [i[0] for i in centroids]\n",
    "cen_y = [i[1] for i in centroids]\n",
    "# add to df\n",
    "data3['cen_x'] = data3.cluster.map({0:cen_x[0], 1:cen_x[1], 2:cen_x[2]})\n",
    "data3['cen_y'] = data3.cluster.map({0:cen_y[0], 1:cen_y[1], 2:cen_y[2]})\n",
    "# define and map colors\n",
    "colors = ['red', 'green', 'brown']\n",
    "data3['c'] = data3.cluster.map({0:colors[0], 1:colors[1], 2:colors[2]})\n",
    "print(data3[1:10])\n",
    "plt.scatter(data3.Up_Reach, data3.Down_Reach, c=data3.c, alpha = 0.9, s=150)\n",
    "plt.scatter(kmeans.cluster_centers_[:, 0], kmeans.cluster_centers_[:, 1],s = 40, c = 'yellow', label = 'Ce')\n",
    "plt.title('Clusters of customers')\n",
    "plt.xlabel('Anual Income')\n",
    "plt.ylabel('Age')\n",
    "plt.rcParams[\"figure.figsize\"] = (15,3)\n",
    "plt.legend()\n",
    "plt.show()"
   ]
  },
  {
   "cell_type": "code",
   "execution_count": 177,
   "id": "4650ee06",
   "metadata": {},
   "outputs": [],
   "source": [
    "#Linear Regression"
   ]
  },
  {
   "cell_type": "code",
   "execution_count": 179,
   "id": "becc56f3",
   "metadata": {},
   "outputs": [],
   "source": [
    "from sklearn.metrics import mean_squared_error\n",
    "from sklearn.linear_model import LinearRegression\n",
    "from sklearn.metrics import mean_squared_error"
   ]
  },
  {
   "cell_type": "code",
   "execution_count": 180,
   "id": "adce3884",
   "metadata": {},
   "outputs": [],
   "source": [
    "xtrain, xtest, ytrain, ytest = train_test_split(x, y, test_size = 0.3, random_state = 0)"
   ]
  },
  {
   "cell_type": "code",
   "execution_count": 183,
   "id": "f29cd721",
   "metadata": {},
   "outputs": [
    {
     "name": "stdout",
     "output_type": "stream",
     "text": [
      "Mean squared error: 0.12450251392906102\n"
     ]
    }
   ],
   "source": [
    "x = data2.iloc[:1000,1:7].astype('int')\n",
    "y = data2.iloc[:1000, 0].astype('int')\n",
    "# decision tree model creation\n",
    "lr = LinearRegression()\n",
    "#Fit a model\n",
    "lr.fit(xtrain,ytrain)\n",
    "# Perform predictions\n",
    "y_pred_linear = lr.predict(xtest)\n",
    "#Classification report\n",
    "mse = mean_squared_error(ytest, y_pred_linear)\n",
    "print(\"Mean squared error:\", mse)"
   ]
  },
  {
   "cell_type": "code",
   "execution_count": 184,
   "id": "22e972a6",
   "metadata": {},
   "outputs": [],
   "source": [
    "#Logistic Regreesion"
   ]
  },
  {
   "cell_type": "code",
   "execution_count": 185,
   "id": "1da5ffbb",
   "metadata": {},
   "outputs": [],
   "source": [
    "from sklearn.linear_model import LogisticRegression\n",
    "from sklearn.model_selection import train_test_split\n",
    "from sklearn.metrics import accuracy_score, classification_report"
   ]
  },
  {
   "cell_type": "code",
   "execution_count": 186,
   "id": "73d90c89",
   "metadata": {},
   "outputs": [],
   "source": [
    "xtrain, xtest, ytrain, ytest = train_test_split(x, y, test_size = 0.3, random_state = 0)"
   ]
  },
  {
   "cell_type": "code",
   "execution_count": 187,
   "id": "3872481b",
   "metadata": {},
   "outputs": [
    {
     "name": "stdout",
     "output_type": "stream",
     "text": [
      "Accuracy: 0.02\n",
      "Classification Report:\n",
      "              precision    recall  f1-score   support\n",
      "\n",
      "      321467       0.00      0.00      0.00         2\n",
      "      321469       0.00      0.00      0.00         1\n",
      "      321476       0.00      0.00      0.00         1\n",
      "      321477       0.00      0.00      0.00         2\n",
      "      321478       0.00      0.00      0.00         1\n",
      "      321480       0.00      0.00      0.00         1\n",
      "      321482       0.00      0.00      0.00         1\n",
      "      321483       0.00      0.00      0.00         1\n",
      "      321487       0.00      0.00      0.00         1\n",
      "      321491       0.00      0.00      0.00         1\n",
      "      321494       0.00      0.00      0.00         1\n",
      "      321497       0.00      0.00      0.00         1\n",
      "      321503       0.00      0.00      0.00         2\n",
      "      321508       0.00      0.00      0.00         1\n",
      "      321515       0.00      0.00      0.00         3\n",
      "      321517       0.00      0.00      0.00         1\n",
      "      321525       0.00      0.00      0.00         2\n",
      "      321526       0.00      0.00      0.00         2\n",
      "      321528       0.00      0.00      0.00         1\n",
      "      321529       0.00      0.00      0.00         1\n",
      "      321540       0.00      0.00      0.00         1\n",
      "      321541       0.00      0.00      0.00         1\n",
      "      321543       0.00      0.00      0.00         1\n",
      "      321544       0.00      0.00      0.00         1\n",
      "      321548       0.00      0.00      0.00         1\n",
      "      321549       0.00      0.00      0.00         1\n",
      "      321553       0.00      0.00      0.00         1\n",
      "      321555       0.00      0.00      0.00         1\n",
      "      321557       0.00      0.00      0.00         2\n",
      "      321558       0.00      0.00      0.00         1\n",
      "      321559       0.00      0.00      0.00         1\n",
      "      321563       0.00      0.00      0.00         1\n",
      "      321565       0.00      0.00      0.00         1\n",
      "      321566       0.00      0.00      0.00         4\n",
      "      321568       0.00      0.00      0.00         1\n",
      "      321569       0.00      0.00      0.00         2\n",
      "      321570       0.00      0.00      0.00         1\n",
      "      321571       0.00      0.00      0.00         1\n",
      "      321572       0.00      0.00      0.00         1\n",
      "      321573       0.00      0.00      0.00         1\n",
      "      321576       0.00      0.00      0.00         1\n",
      "      321594       0.00      0.00      0.00         1\n",
      "      321598       0.00      0.00      0.00         2\n",
      "      321599       0.00      0.00      0.00         0\n",
      "      321602       0.00      0.00      0.00         1\n",
      "      321603       0.00      0.00      0.00         1\n",
      "      321608       0.00      0.00      0.00         1\n",
      "      321609       0.00      0.00      0.00         1\n",
      "      321610       0.00      0.00      0.00         1\n",
      "      321612       0.00      0.00      0.00         1\n",
      "      321625       0.00      0.00      0.00         1\n",
      "      321628       0.00      0.00      0.00         0\n",
      "      321635       0.00      0.00      0.00         1\n",
      "      321636       0.00      0.00      0.00         1\n",
      "      321637       0.00      0.00      0.00         1\n",
      "      321638       0.00      0.00      0.00         3\n",
      "      321639       0.00      0.00      0.00         2\n",
      "      321640       0.00      0.00      0.00         1\n",
      "      321642       0.00      0.00      0.00         1\n",
      "      321648       0.00      0.00      0.00         1\n",
      "      321650       0.00      0.00      0.00         1\n",
      "      321651       0.00      0.00      0.00         1\n",
      "      321652       0.00      0.00      0.00         1\n",
      "      321654       0.00      0.00      0.00         1\n",
      "      321655       0.00      0.00      0.00         1\n",
      "      321657       0.00      0.00      0.00         1\n",
      "      321659       0.00      0.00      0.00         1\n",
      "      321666       0.00      0.00      0.00         1\n",
      "      321667       0.00      0.00      0.00         2\n",
      "      321673       0.00      0.00      0.00         2\n",
      "      321675       0.00      0.00      0.00         1\n",
      "      321676       0.00      0.00      0.00         1\n",
      "      321677       0.00      0.00      0.00         1\n",
      "      321685       0.00      0.00      0.00         1\n",
      "      321693       0.00      0.00      0.00         1\n",
      "      321706       0.00      0.00      0.00         1\n",
      "      321716       0.00      0.00      0.00         1\n",
      "      321722       0.00      0.00      0.00         1\n",
      "      321723       0.00      0.00      0.00         1\n",
      "      321729       0.00      0.00      0.00         1\n",
      "      321730       0.00      0.00      0.00         1\n",
      "      321731       0.00      0.00      0.00         1\n",
      "      321732       0.00      0.00      0.00         2\n",
      "      321737       0.00      0.00      0.00         3\n",
      "      321738       0.00      0.00      0.00         2\n",
      "      321740       0.00      0.00      0.00         2\n",
      "      321741       0.00      0.00      0.00         1\n",
      "      321742       0.00      0.00      0.00         2\n",
      "      321744       0.00      0.00      0.00         1\n",
      "      321746       0.00      0.00      0.00         2\n",
      "      321750       0.00      0.00      0.00         1\n",
      "      321752       0.00      0.00      0.00         1\n",
      "      321753       0.00      0.00      0.00         1\n",
      "      321754       0.00      0.00      0.00         1\n",
      "      321757       0.00      0.00      0.00         1\n",
      "      321758       0.00      0.00      0.00         1\n",
      "      321759       0.00      0.00      0.00         1\n",
      "      321760       0.00      0.00      0.00         2\n",
      "      321761       0.00      0.00      0.00         1\n",
      "      321762       0.00      0.00      0.00         2\n",
      "      321766       0.00      0.00      0.00         1\n",
      "      321767       0.00      0.00      0.00         1\n",
      "      321770       0.00      0.00      0.00         2\n",
      "      321773       0.00      0.00      0.00         1\n",
      "      321774       0.00      0.00      0.00         1\n",
      "      321775       0.00      0.00      0.00         1\n",
      "      321777       0.00      0.00      0.00         3\n",
      "      321779       0.00      0.00      0.00         1\n",
      "      321780       0.00      0.00      0.00         1\n",
      "      321789       0.00      0.00      0.00         2\n",
      "      321800       0.00      0.00      0.00         1\n",
      "      321801       0.00      0.00      0.00         1\n",
      "      321802       0.00      0.00      0.00         1\n",
      "      321807       0.00      0.00      0.00         1\n",
      "      321812       0.00      0.00      0.00         1\n",
      "      321814       0.00      0.00      0.00         0\n",
      "      321815       0.00      0.00      0.00         1\n",
      "      321820       0.00      0.00      0.00         2\n",
      "      321821       0.00      0.00      0.00         1\n",
      "      321822       0.00      0.00      0.00         1\n",
      "      321825       0.00      0.00      0.00         1\n",
      "      321834       0.00      0.00      0.00         1\n",
      "      321836       0.00      0.00      0.00         1\n",
      "      321840       0.00      0.00      0.00         1\n",
      "      321846       0.00      0.00      0.00         1\n",
      "      321857       0.00      0.00      0.00         1\n",
      "      321858       0.00      0.00      0.00         1\n",
      "      321860       0.00      0.00      0.00         1\n",
      "      321862       0.00      0.00      0.00         1\n",
      "      321863       0.00      0.00      0.00         2\n",
      "      321865       0.00      0.00      0.00         2\n",
      "      321873       0.00      0.00      0.00         1\n",
      "      321876       0.00      0.00      0.00         2\n",
      "      321879       0.00      0.00      0.00         1\n",
      "      321881       0.00      0.00      0.00         1\n",
      "      321882       0.00      0.00      0.00         1\n",
      "      321886       0.00      0.00      0.00         1\n",
      "      321902       0.00      0.00      0.00         1\n",
      "      321905       0.00      0.00      0.00         3\n",
      "      321911       0.00      0.00      0.00         1\n",
      "      321914       0.00      0.00      0.00         2\n",
      "      321919       0.00      0.00      0.00         1\n",
      "      321928       0.00      0.00      0.00         1\n",
      "      321934       0.00      0.00      0.00         1\n",
      "      321935       0.00      0.00      0.00         1\n",
      "      321939       0.00      0.00      0.00         1\n",
      "      321944       0.00      0.00      0.00         1\n",
      "      321945       0.00      0.00      0.00         1\n",
      "      321955       0.00      0.00      0.00         1\n",
      "      321956       0.02      0.83      0.04         6\n",
      "      321963       0.00      0.00      0.00         2\n",
      "      321964       0.00      0.00      0.00         1\n",
      "      321965       0.00      0.00      0.00         1\n",
      "      321966       0.00      0.00      0.00         1\n",
      "      321969       0.00      0.00      0.00         1\n",
      "      321973       0.00      0.00      0.00         1\n",
      "      321981       0.00      0.00      0.00         1\n",
      "      321997       0.00      0.00      0.00         2\n",
      "      322003       0.00      0.00      0.00         1\n",
      "      322008       0.00      0.00      0.00         1\n",
      "      322011       0.00      0.00      0.00         1\n",
      "      322014       0.08      0.50      0.14         2\n",
      "      322022       0.00      0.00      0.00         0\n",
      "      322023       0.00      0.00      0.00         1\n",
      "      322024       0.00      0.00      0.00         1\n",
      "      322026       0.00      0.00      0.00         2\n",
      "      322046       0.00      0.00      0.00         2\n",
      "      322052       0.00      0.00      0.00         1\n",
      "      322053       0.00      0.00      0.00         1\n",
      "      322054       0.00      0.00      0.00         1\n",
      "      322059       0.00      0.00      0.00         1\n",
      "      322061       0.00      0.00      0.00         4\n",
      "      322065       0.00      0.00      0.00         4\n",
      "      322072       0.00      0.00      0.00         0\n",
      "      322073       0.00      0.00      0.00         0\n",
      "      322077       0.00      0.00      0.00         3\n",
      "      322082       0.00      0.00      0.00         2\n",
      "      322083       0.00      0.00      0.00         2\n",
      "      322084       0.00      0.00      0.00         1\n",
      "      322086       0.00      0.00      0.00         2\n",
      "      322087       0.00      0.00      0.00         1\n",
      "      322088       0.00      0.00      0.00         1\n",
      "      322089       0.00      0.00      0.00         2\n",
      "      322091       0.00      0.00      0.00         1\n",
      "      322094       0.00      0.00      0.00         1\n",
      "      322099       0.00      0.00      0.00         1\n",
      "      322112       0.00      0.00      0.00         1\n",
      "      322114       0.00      0.00      0.00         1\n",
      "      322121       0.00      0.00      0.00         1\n",
      "      322124       0.00      0.00      0.00         1\n",
      "      322127       0.00      0.00      0.00         1\n",
      "      322137       0.00      0.00      0.00         1\n",
      "      322145       0.00      0.00      0.00         1\n",
      "      322148       0.00      0.00      0.00         1\n",
      "      322157       0.00      0.00      0.00         1\n",
      "      322170       0.00      0.00      0.00         1\n",
      "      322171       0.00      0.00      0.00         1\n",
      "      322176       0.00      0.00      0.00         1\n",
      "      322181       0.00      0.00      0.00         1\n",
      "      322188       0.00      0.00      0.00         1\n",
      "      322211       0.00      0.00      0.00         1\n",
      "      322219       0.00      0.00      0.00         1\n",
      "      322226       0.00      0.00      0.00         1\n",
      "      322230       0.00      0.00      0.00         1\n",
      "      322232       0.00      0.00      0.00         1\n",
      "      322235       0.00      0.00      0.00         2\n",
      "      322237       0.00      0.00      0.00         1\n",
      "      322238       0.00      0.00      0.00         1\n",
      "      322241       0.00      0.00      0.00         1\n",
      "      322243       0.00      0.00      0.00         4\n",
      "      322251       0.00      0.00      0.00         1\n",
      "      322265       0.00      0.00      0.00         1\n",
      "      322267       0.00      0.00      0.00         1\n",
      "      322268       0.00      0.00      0.00         1\n",
      "      322270       0.00      0.00      0.00         1\n",
      "      322273       0.00      0.00      0.00         1\n",
      "      322276       0.00      0.00      0.00         1\n",
      "      322282       0.00      0.00      0.00         1\n",
      "      322285       0.00      0.00      0.00         2\n",
      "      322295       0.00      0.00      0.00         1\n",
      "      322296       0.00      0.00      0.00         2\n",
      "      322297       0.00      0.00      0.00         2\n",
      "      322298       0.00      0.00      0.00         2\n",
      "      322299       0.00      0.00      0.00         2\n",
      "      322300       0.00      0.00      0.00         1\n",
      "      322302       0.00      0.00      0.00         1\n",
      "      322306       0.00      0.00      0.00         3\n",
      "      322309       0.00      0.00      0.00         1\n",
      "      322316       0.00      0.00      0.00         1\n",
      "      322317       0.00      0.00      0.00         1\n",
      "      322318       0.00      0.00      0.00         2\n",
      "      322320       0.00      0.00      0.00         3\n",
      "\n",
      "    accuracy                           0.02       300\n",
      "   macro avg       0.00      0.01      0.00       300\n",
      "weighted avg       0.00      0.02      0.00       300\n",
      "\n"
     ]
    },
    {
     "name": "stderr",
     "output_type": "stream",
     "text": [
      "C:\\Users\\DELL\\AppData\\Roaming\\Python\\Python311\\site-packages\\sklearn\\linear_model\\_logistic.py:458: ConvergenceWarning: lbfgs failed to converge (status=1):\n",
      "STOP: TOTAL NO. of ITERATIONS REACHED LIMIT.\n",
      "\n",
      "Increase the number of iterations (max_iter) or scale the data as shown in:\n",
      "    https://scikit-learn.org/stable/modules/preprocessing.html\n",
      "Please also refer to the documentation for alternative solver options:\n",
      "    https://scikit-learn.org/stable/modules/linear_model.html#logistic-regression\n",
      "  n_iter_i = _check_optimize_result(\n",
      "C:\\Users\\DELL\\AppData\\Roaming\\Python\\Python311\\site-packages\\sklearn\\metrics\\_classification.py:1344: UndefinedMetricWarning: Precision and F-score are ill-defined and being set to 0.0 in labels with no predicted samples. Use `zero_division` parameter to control this behavior.\n",
      "  _warn_prf(average, modifier, msg_start, len(result))\n",
      "C:\\Users\\DELL\\AppData\\Roaming\\Python\\Python311\\site-packages\\sklearn\\metrics\\_classification.py:1344: UndefinedMetricWarning: Recall and F-score are ill-defined and being set to 0.0 in labels with no true samples. Use `zero_division` parameter to control this behavior.\n",
      "  _warn_prf(average, modifier, msg_start, len(result))\n",
      "C:\\Users\\DELL\\AppData\\Roaming\\Python\\Python311\\site-packages\\sklearn\\metrics\\_classification.py:1344: UndefinedMetricWarning: Precision and F-score are ill-defined and being set to 0.0 in labels with no predicted samples. Use `zero_division` parameter to control this behavior.\n",
      "  _warn_prf(average, modifier, msg_start, len(result))\n",
      "C:\\Users\\DELL\\AppData\\Roaming\\Python\\Python311\\site-packages\\sklearn\\metrics\\_classification.py:1344: UndefinedMetricWarning: Recall and F-score are ill-defined and being set to 0.0 in labels with no true samples. Use `zero_division` parameter to control this behavior.\n",
      "  _warn_prf(average, modifier, msg_start, len(result))\n",
      "C:\\Users\\DELL\\AppData\\Roaming\\Python\\Python311\\site-packages\\sklearn\\metrics\\_classification.py:1344: UndefinedMetricWarning: Precision and F-score are ill-defined and being set to 0.0 in labels with no predicted samples. Use `zero_division` parameter to control this behavior.\n",
      "  _warn_prf(average, modifier, msg_start, len(result))\n",
      "C:\\Users\\DELL\\AppData\\Roaming\\Python\\Python311\\site-packages\\sklearn\\metrics\\_classification.py:1344: UndefinedMetricWarning: Recall and F-score are ill-defined and being set to 0.0 in labels with no true samples. Use `zero_division` parameter to control this behavior.\n",
      "  _warn_prf(average, modifier, msg_start, len(result))\n"
     ]
    }
   ],
   "source": [
    "x = data2.iloc[:1000,1:7].astype('int')\n",
    "y = data2.iloc[:1000, 0].astype('int')\n",
    "# decision tree model creation\n",
    "logics = LogisticRegression()\n",
    "#Fit a model\n",
    "logics.fit(xtrain,ytrain)\n",
    "# Perform predictions\n",
    "y_pred_logistic = logics.predict(xtest)\n",
    "#Classification report\n",
    "acc = accuracy_score(ytest, y_pred_logistic)\n",
    "print(\"Accuracy:\", acc)\n",
    "print(\"Classification Report:\")\n",
    "print(classification_report(ytest, y_pred_logistic))"
   ]
  },
  {
   "cell_type": "code",
   "execution_count": null,
   "id": "ddd2b3e2",
   "metadata": {},
   "outputs": [],
   "source": []
  }
 ],
 "metadata": {
  "kernelspec": {
   "display_name": "Python 3 (ipykernel)",
   "language": "python",
   "name": "python3"
  },
  "language_info": {
   "codemirror_mode": {
    "name": "ipython",
    "version": 3
   },
   "file_extension": ".py",
   "mimetype": "text/x-python",
   "name": "python",
   "nbconvert_exporter": "python",
   "pygments_lexer": "ipython3",
   "version": "3.11.1"
  }
 },
 "nbformat": 4,
 "nbformat_minor": 5
}
